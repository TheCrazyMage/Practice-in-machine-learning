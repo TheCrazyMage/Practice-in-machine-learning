{
 "cells": [
  {
   "cell_type": "markdown",
   "metadata": {},
   "source": [
    "#                                                     Задача 3"
   ]
  },
  {
   "cell_type": "code",
   "execution_count": 1,
   "metadata": {},
   "outputs": [],
   "source": [
    " # произвели загрузку библиотек\n",
    "import numpy as np\n",
    "import pandas as pd\n",
    "import seaborn as sns\n",
    "import matplotlib.pyplot as plt\n",
    "\n",
    "# прочтем данные\n",
    "data = pd.read_csv('C:/Users/Mishan/Desktop/Программирование/Практика/winequality-red.csv')"
   ]
  },
  {
   "cell_type": "code",
   "execution_count": 8,
   "metadata": {},
   "outputs": [],
   "source": [
    "# Для предупреждений.\n",
    "import warnings as warnings\n",
    "warnings.filterwarnings('ignore')"
   ]
  },
  {
   "cell_type": "code",
   "execution_count": 3,
   "metadata": {},
   "outputs": [
    {
     "data": {
      "text/plain": [
       "(1599, 12)"
      ]
     },
     "execution_count": 3,
     "metadata": {},
     "output_type": "execute_result"
    }
   ],
   "source": [
    "# посмотрим размеры матрицы\n",
    "data.shape"
   ]
  },
  {
   "cell_type": "code",
   "execution_count": 4,
   "metadata": {},
   "outputs": [
    {
     "data": {
      "text/html": [
       "<div>\n",
       "<style scoped>\n",
       "    .dataframe tbody tr th:only-of-type {\n",
       "        vertical-align: middle;\n",
       "    }\n",
       "\n",
       "    .dataframe tbody tr th {\n",
       "        vertical-align: top;\n",
       "    }\n",
       "\n",
       "    .dataframe thead th {\n",
       "        text-align: right;\n",
       "    }\n",
       "</style>\n",
       "<table border=\"1\" class=\"dataframe\">\n",
       "  <thead>\n",
       "    <tr style=\"text-align: right;\">\n",
       "      <th></th>\n",
       "      <th>fixed acidity</th>\n",
       "      <th>volatile acidity</th>\n",
       "      <th>citric acid</th>\n",
       "      <th>residual sugar</th>\n",
       "      <th>chlorides</th>\n",
       "      <th>free sulfur dioxide</th>\n",
       "      <th>total sulfur dioxide</th>\n",
       "      <th>density</th>\n",
       "      <th>pH</th>\n",
       "      <th>sulphates</th>\n",
       "      <th>alcohol</th>\n",
       "      <th>quality</th>\n",
       "    </tr>\n",
       "  </thead>\n",
       "  <tbody>\n",
       "    <tr>\n",
       "      <th>0</th>\n",
       "      <td>7.4</td>\n",
       "      <td>0.70</td>\n",
       "      <td>0.00</td>\n",
       "      <td>1.9</td>\n",
       "      <td>0.076</td>\n",
       "      <td>11.0</td>\n",
       "      <td>34.0</td>\n",
       "      <td>0.9978</td>\n",
       "      <td>3.51</td>\n",
       "      <td>0.56</td>\n",
       "      <td>9.4</td>\n",
       "      <td>5</td>\n",
       "    </tr>\n",
       "    <tr>\n",
       "      <th>1</th>\n",
       "      <td>7.8</td>\n",
       "      <td>0.88</td>\n",
       "      <td>0.00</td>\n",
       "      <td>2.6</td>\n",
       "      <td>0.098</td>\n",
       "      <td>25.0</td>\n",
       "      <td>67.0</td>\n",
       "      <td>0.9968</td>\n",
       "      <td>3.20</td>\n",
       "      <td>0.68</td>\n",
       "      <td>9.8</td>\n",
       "      <td>5</td>\n",
       "    </tr>\n",
       "    <tr>\n",
       "      <th>2</th>\n",
       "      <td>7.8</td>\n",
       "      <td>0.76</td>\n",
       "      <td>0.04</td>\n",
       "      <td>2.3</td>\n",
       "      <td>0.092</td>\n",
       "      <td>15.0</td>\n",
       "      <td>54.0</td>\n",
       "      <td>0.9970</td>\n",
       "      <td>3.26</td>\n",
       "      <td>0.65</td>\n",
       "      <td>9.8</td>\n",
       "      <td>5</td>\n",
       "    </tr>\n",
       "    <tr>\n",
       "      <th>3</th>\n",
       "      <td>11.2</td>\n",
       "      <td>0.28</td>\n",
       "      <td>0.56</td>\n",
       "      <td>1.9</td>\n",
       "      <td>0.075</td>\n",
       "      <td>17.0</td>\n",
       "      <td>60.0</td>\n",
       "      <td>0.9980</td>\n",
       "      <td>3.16</td>\n",
       "      <td>0.58</td>\n",
       "      <td>9.8</td>\n",
       "      <td>6</td>\n",
       "    </tr>\n",
       "    <tr>\n",
       "      <th>4</th>\n",
       "      <td>7.4</td>\n",
       "      <td>0.70</td>\n",
       "      <td>0.00</td>\n",
       "      <td>1.9</td>\n",
       "      <td>0.076</td>\n",
       "      <td>11.0</td>\n",
       "      <td>34.0</td>\n",
       "      <td>0.9978</td>\n",
       "      <td>3.51</td>\n",
       "      <td>0.56</td>\n",
       "      <td>9.4</td>\n",
       "      <td>5</td>\n",
       "    </tr>\n",
       "  </tbody>\n",
       "</table>\n",
       "</div>"
      ],
      "text/plain": [
       "   fixed acidity  volatile acidity  citric acid  residual sugar  chlorides  \\\n",
       "0            7.4              0.70         0.00             1.9      0.076   \n",
       "1            7.8              0.88         0.00             2.6      0.098   \n",
       "2            7.8              0.76         0.04             2.3      0.092   \n",
       "3           11.2              0.28         0.56             1.9      0.075   \n",
       "4            7.4              0.70         0.00             1.9      0.076   \n",
       "\n",
       "   free sulfur dioxide  total sulfur dioxide  density    pH  sulphates  \\\n",
       "0                 11.0                  34.0   0.9978  3.51       0.56   \n",
       "1                 25.0                  67.0   0.9968  3.20       0.68   \n",
       "2                 15.0                  54.0   0.9970  3.26       0.65   \n",
       "3                 17.0                  60.0   0.9980  3.16       0.58   \n",
       "4                 11.0                  34.0   0.9978  3.51       0.56   \n",
       "\n",
       "   alcohol  quality  \n",
       "0      9.4        5  \n",
       "1      9.8        5  \n",
       "2      9.8        5  \n",
       "3      9.8        6  \n",
       "4      9.4        5  "
      ]
     },
     "execution_count": 4,
     "metadata": {},
     "output_type": "execute_result"
    }
   ],
   "source": [
    "# теперь посмотрим несколько первых и последних строк датасета\n",
    "data.head()"
   ]
  },
  {
   "cell_type": "code",
   "execution_count": 5,
   "metadata": {},
   "outputs": [
    {
     "data": {
      "text/html": [
       "<div>\n",
       "<style scoped>\n",
       "    .dataframe tbody tr th:only-of-type {\n",
       "        vertical-align: middle;\n",
       "    }\n",
       "\n",
       "    .dataframe tbody tr th {\n",
       "        vertical-align: top;\n",
       "    }\n",
       "\n",
       "    .dataframe thead th {\n",
       "        text-align: right;\n",
       "    }\n",
       "</style>\n",
       "<table border=\"1\" class=\"dataframe\">\n",
       "  <thead>\n",
       "    <tr style=\"text-align: right;\">\n",
       "      <th></th>\n",
       "      <th>fixed acidity</th>\n",
       "      <th>volatile acidity</th>\n",
       "      <th>citric acid</th>\n",
       "      <th>residual sugar</th>\n",
       "      <th>chlorides</th>\n",
       "      <th>free sulfur dioxide</th>\n",
       "      <th>total sulfur dioxide</th>\n",
       "      <th>density</th>\n",
       "      <th>pH</th>\n",
       "      <th>sulphates</th>\n",
       "      <th>alcohol</th>\n",
       "      <th>quality</th>\n",
       "    </tr>\n",
       "  </thead>\n",
       "  <tbody>\n",
       "    <tr>\n",
       "      <th>1594</th>\n",
       "      <td>6.2</td>\n",
       "      <td>0.600</td>\n",
       "      <td>0.08</td>\n",
       "      <td>2.0</td>\n",
       "      <td>0.090</td>\n",
       "      <td>32.0</td>\n",
       "      <td>44.0</td>\n",
       "      <td>0.99490</td>\n",
       "      <td>3.45</td>\n",
       "      <td>0.58</td>\n",
       "      <td>10.5</td>\n",
       "      <td>5</td>\n",
       "    </tr>\n",
       "    <tr>\n",
       "      <th>1595</th>\n",
       "      <td>5.9</td>\n",
       "      <td>0.550</td>\n",
       "      <td>0.10</td>\n",
       "      <td>2.2</td>\n",
       "      <td>0.062</td>\n",
       "      <td>39.0</td>\n",
       "      <td>51.0</td>\n",
       "      <td>0.99512</td>\n",
       "      <td>3.52</td>\n",
       "      <td>0.76</td>\n",
       "      <td>11.2</td>\n",
       "      <td>6</td>\n",
       "    </tr>\n",
       "    <tr>\n",
       "      <th>1596</th>\n",
       "      <td>6.3</td>\n",
       "      <td>0.510</td>\n",
       "      <td>0.13</td>\n",
       "      <td>2.3</td>\n",
       "      <td>0.076</td>\n",
       "      <td>29.0</td>\n",
       "      <td>40.0</td>\n",
       "      <td>0.99574</td>\n",
       "      <td>3.42</td>\n",
       "      <td>0.75</td>\n",
       "      <td>11.0</td>\n",
       "      <td>6</td>\n",
       "    </tr>\n",
       "    <tr>\n",
       "      <th>1597</th>\n",
       "      <td>5.9</td>\n",
       "      <td>0.645</td>\n",
       "      <td>0.12</td>\n",
       "      <td>2.0</td>\n",
       "      <td>0.075</td>\n",
       "      <td>32.0</td>\n",
       "      <td>44.0</td>\n",
       "      <td>0.99547</td>\n",
       "      <td>3.57</td>\n",
       "      <td>0.71</td>\n",
       "      <td>10.2</td>\n",
       "      <td>5</td>\n",
       "    </tr>\n",
       "    <tr>\n",
       "      <th>1598</th>\n",
       "      <td>6.0</td>\n",
       "      <td>0.310</td>\n",
       "      <td>0.47</td>\n",
       "      <td>3.6</td>\n",
       "      <td>0.067</td>\n",
       "      <td>18.0</td>\n",
       "      <td>42.0</td>\n",
       "      <td>0.99549</td>\n",
       "      <td>3.39</td>\n",
       "      <td>0.66</td>\n",
       "      <td>11.0</td>\n",
       "      <td>6</td>\n",
       "    </tr>\n",
       "  </tbody>\n",
       "</table>\n",
       "</div>"
      ],
      "text/plain": [
       "      fixed acidity  volatile acidity  citric acid  residual sugar  chlorides  \\\n",
       "1594            6.2             0.600         0.08             2.0      0.090   \n",
       "1595            5.9             0.550         0.10             2.2      0.062   \n",
       "1596            6.3             0.510         0.13             2.3      0.076   \n",
       "1597            5.9             0.645         0.12             2.0      0.075   \n",
       "1598            6.0             0.310         0.47             3.6      0.067   \n",
       "\n",
       "      free sulfur dioxide  total sulfur dioxide  density    pH  sulphates  \\\n",
       "1594                 32.0                  44.0  0.99490  3.45       0.58   \n",
       "1595                 39.0                  51.0  0.99512  3.52       0.76   \n",
       "1596                 29.0                  40.0  0.99574  3.42       0.75   \n",
       "1597                 32.0                  44.0  0.99547  3.57       0.71   \n",
       "1598                 18.0                  42.0  0.99549  3.39       0.66   \n",
       "\n",
       "      alcohol  quality  \n",
       "1594     10.5        5  \n",
       "1595     11.2        6  \n",
       "1596     11.0        6  \n",
       "1597     10.2        5  \n",
       "1598     11.0        6  "
      ]
     },
     "execution_count": 5,
     "metadata": {},
     "output_type": "execute_result"
    }
   ],
   "source": [
    "data.tail()"
   ]
  },
  {
   "cell_type": "code",
   "execution_count": 6,
   "metadata": {},
   "outputs": [
    {
     "name": "stdout",
     "output_type": "stream",
     "text": [
      "<class 'pandas.core.frame.DataFrame'>\n",
      "RangeIndex: 1599 entries, 0 to 1598\n",
      "Data columns (total 12 columns):\n",
      "fixed acidity           1599 non-null float64\n",
      "volatile acidity        1599 non-null float64\n",
      "citric acid             1599 non-null float64\n",
      "residual sugar          1599 non-null float64\n",
      "chlorides               1599 non-null float64\n",
      "free sulfur dioxide     1599 non-null float64\n",
      "total sulfur dioxide    1599 non-null float64\n",
      "density                 1599 non-null float64\n",
      "pH                      1599 non-null float64\n",
      "sulphates               1599 non-null float64\n",
      "alcohol                 1599 non-null float64\n",
      "quality                 1599 non-null int64\n",
      "dtypes: float64(11), int64(1)\n",
      "memory usage: 150.0 KB\n"
     ]
    }
   ],
   "source": [
    "# посмотрим информацию по стоблцам\n",
    "data.info()"
   ]
  },
  {
   "cell_type": "markdown",
   "metadata": {},
   "source": [
    "1. Сколько в датасете объектов и признаков? Дать описание каждому признаку, если оно есть.\n",
    "\n",
    "        В датасете содержится 1599 строк (объектов) и 12 столбцов (признаков).\n",
    "\n",
    "        fixed acidity - вещественный тип, фиксированная кислотность \n",
    "        volatile acidity - вещественный тип, летучая кислотность\n",
    "        citric acid - вещественный тип, лимонная кислота\n",
    "        residual sugar - вещественный тип, остаточный сахар\n",
    "        chlorides - вещественный тип, хлориды\n",
    "        free sulfur dioxide - вещественный тип, свободный диоксид серы\n",
    "        total sulfur dioxide - вещественный тип, общий диоксид серы\n",
    "        density - вещественный тип, плотность\n",
    "        pH - вещественный тип, водородный показатель\n",
    "        sulphates - вещественный тип, сульфаты\n",
    "        alcohol - вещественный тип, алкогольность\n",
    "        quality - целочисленный тип, качество (оценка от 0 до 10)"
   ]
  },
  {
   "cell_type": "code",
   "execution_count": 7,
   "metadata": {},
   "outputs": [
    {
     "data": {
      "text/html": [
       "<div>\n",
       "<style scoped>\n",
       "    .dataframe tbody tr th:only-of-type {\n",
       "        vertical-align: middle;\n",
       "    }\n",
       "\n",
       "    .dataframe tbody tr th {\n",
       "        vertical-align: top;\n",
       "    }\n",
       "\n",
       "    .dataframe thead th {\n",
       "        text-align: right;\n",
       "    }\n",
       "</style>\n",
       "<table border=\"1\" class=\"dataframe\">\n",
       "  <thead>\n",
       "    <tr style=\"text-align: right;\">\n",
       "      <th></th>\n",
       "      <th>fixed acidity</th>\n",
       "      <th>volatile acidity</th>\n",
       "      <th>citric acid</th>\n",
       "      <th>residual sugar</th>\n",
       "      <th>chlorides</th>\n",
       "      <th>free sulfur dioxide</th>\n",
       "      <th>total sulfur dioxide</th>\n",
       "      <th>density</th>\n",
       "      <th>pH</th>\n",
       "      <th>sulphates</th>\n",
       "      <th>alcohol</th>\n",
       "      <th>quality</th>\n",
       "    </tr>\n",
       "  </thead>\n",
       "  <tbody>\n",
       "    <tr>\n",
       "      <th>0</th>\n",
       "      <td>7.4</td>\n",
       "      <td>0.70</td>\n",
       "      <td>0.00</td>\n",
       "      <td>1.9</td>\n",
       "      <td>0.076</td>\n",
       "      <td>11.0</td>\n",
       "      <td>34.0</td>\n",
       "      <td>0.9978</td>\n",
       "      <td>3.51</td>\n",
       "      <td>0.56</td>\n",
       "      <td>9.4</td>\n",
       "      <td>5</td>\n",
       "    </tr>\n",
       "    <tr>\n",
       "      <th>1</th>\n",
       "      <td>7.8</td>\n",
       "      <td>0.88</td>\n",
       "      <td>0.00</td>\n",
       "      <td>2.6</td>\n",
       "      <td>0.098</td>\n",
       "      <td>25.0</td>\n",
       "      <td>67.0</td>\n",
       "      <td>0.9968</td>\n",
       "      <td>3.20</td>\n",
       "      <td>0.68</td>\n",
       "      <td>9.8</td>\n",
       "      <td>5</td>\n",
       "    </tr>\n",
       "    <tr>\n",
       "      <th>2</th>\n",
       "      <td>7.8</td>\n",
       "      <td>0.76</td>\n",
       "      <td>0.04</td>\n",
       "      <td>2.3</td>\n",
       "      <td>0.092</td>\n",
       "      <td>15.0</td>\n",
       "      <td>54.0</td>\n",
       "      <td>0.9970</td>\n",
       "      <td>3.26</td>\n",
       "      <td>0.65</td>\n",
       "      <td>9.8</td>\n",
       "      <td>5</td>\n",
       "    </tr>\n",
       "    <tr>\n",
       "      <th>3</th>\n",
       "      <td>11.2</td>\n",
       "      <td>0.28</td>\n",
       "      <td>0.56</td>\n",
       "      <td>1.9</td>\n",
       "      <td>0.075</td>\n",
       "      <td>17.0</td>\n",
       "      <td>60.0</td>\n",
       "      <td>0.9980</td>\n",
       "      <td>3.16</td>\n",
       "      <td>0.58</td>\n",
       "      <td>9.8</td>\n",
       "      <td>6</td>\n",
       "    </tr>\n",
       "    <tr>\n",
       "      <th>4</th>\n",
       "      <td>7.4</td>\n",
       "      <td>0.70</td>\n",
       "      <td>0.00</td>\n",
       "      <td>1.9</td>\n",
       "      <td>0.076</td>\n",
       "      <td>11.0</td>\n",
       "      <td>34.0</td>\n",
       "      <td>0.9978</td>\n",
       "      <td>3.51</td>\n",
       "      <td>0.56</td>\n",
       "      <td>9.4</td>\n",
       "      <td>5</td>\n",
       "    </tr>\n",
       "  </tbody>\n",
       "</table>\n",
       "</div>"
      ],
      "text/plain": [
       "   fixed acidity  volatile acidity  citric acid  residual sugar  chlorides  \\\n",
       "0            7.4              0.70         0.00             1.9      0.076   \n",
       "1            7.8              0.88         0.00             2.6      0.098   \n",
       "2            7.8              0.76         0.04             2.3      0.092   \n",
       "3           11.2              0.28         0.56             1.9      0.075   \n",
       "4            7.4              0.70         0.00             1.9      0.076   \n",
       "\n",
       "   free sulfur dioxide  total sulfur dioxide  density    pH  sulphates  \\\n",
       "0                 11.0                  34.0   0.9978  3.51       0.56   \n",
       "1                 25.0                  67.0   0.9968  3.20       0.68   \n",
       "2                 15.0                  54.0   0.9970  3.26       0.65   \n",
       "3                 17.0                  60.0   0.9980  3.16       0.58   \n",
       "4                 11.0                  34.0   0.9978  3.51       0.56   \n",
       "\n",
       "   alcohol  quality  \n",
       "0      9.4        5  \n",
       "1      9.8        5  \n",
       "2      9.8        5  \n",
       "3      9.8        6  \n",
       "4      9.4        5  "
      ]
     },
     "execution_count": 7,
     "metadata": {},
     "output_type": "execute_result"
    }
   ],
   "source": [
    "data.head()"
   ]
  },
  {
   "cell_type": "markdown",
   "metadata": {},
   "source": [
    "2. Сколько категориальных признаков, какие?\n",
    "    \n",
    "           В датасете есть один категориальный признак - quality."
   ]
  },
  {
   "cell_type": "code",
   "execution_count": 8,
   "metadata": {},
   "outputs": [
    {
     "data": {
      "text/html": [
       "<div>\n",
       "<style scoped>\n",
       "    .dataframe tbody tr th:only-of-type {\n",
       "        vertical-align: middle;\n",
       "    }\n",
       "\n",
       "    .dataframe tbody tr th {\n",
       "        vertical-align: top;\n",
       "    }\n",
       "\n",
       "    .dataframe thead th {\n",
       "        text-align: right;\n",
       "    }\n",
       "</style>\n",
       "<table border=\"1\" class=\"dataframe\">\n",
       "  <thead>\n",
       "    <tr style=\"text-align: right;\">\n",
       "      <th></th>\n",
       "      <th>fixed acidity</th>\n",
       "      <th>volatile acidity</th>\n",
       "      <th>citric acid</th>\n",
       "      <th>residual sugar</th>\n",
       "      <th>chlorides</th>\n",
       "      <th>free sulfur dioxide</th>\n",
       "      <th>total sulfur dioxide</th>\n",
       "      <th>density</th>\n",
       "      <th>pH</th>\n",
       "      <th>sulphates</th>\n",
       "      <th>alcohol</th>\n",
       "      <th>quality</th>\n",
       "    </tr>\n",
       "  </thead>\n",
       "  <tbody>\n",
       "    <tr>\n",
       "      <th>count</th>\n",
       "      <td>1599.000000</td>\n",
       "      <td>1599.000000</td>\n",
       "      <td>1599.000000</td>\n",
       "      <td>1599.000000</td>\n",
       "      <td>1599.000000</td>\n",
       "      <td>1599.000000</td>\n",
       "      <td>1599.000000</td>\n",
       "      <td>1599.000000</td>\n",
       "      <td>1599.000000</td>\n",
       "      <td>1599.000000</td>\n",
       "      <td>1599.000000</td>\n",
       "      <td>1599.000000</td>\n",
       "    </tr>\n",
       "    <tr>\n",
       "      <th>mean</th>\n",
       "      <td>8.319637</td>\n",
       "      <td>0.527821</td>\n",
       "      <td>0.270976</td>\n",
       "      <td>2.538806</td>\n",
       "      <td>0.087467</td>\n",
       "      <td>15.874922</td>\n",
       "      <td>46.467792</td>\n",
       "      <td>0.996747</td>\n",
       "      <td>3.311113</td>\n",
       "      <td>0.658149</td>\n",
       "      <td>10.422983</td>\n",
       "      <td>5.636023</td>\n",
       "    </tr>\n",
       "    <tr>\n",
       "      <th>std</th>\n",
       "      <td>1.741096</td>\n",
       "      <td>0.179060</td>\n",
       "      <td>0.194801</td>\n",
       "      <td>1.409928</td>\n",
       "      <td>0.047065</td>\n",
       "      <td>10.460157</td>\n",
       "      <td>32.895324</td>\n",
       "      <td>0.001887</td>\n",
       "      <td>0.154386</td>\n",
       "      <td>0.169507</td>\n",
       "      <td>1.065668</td>\n",
       "      <td>0.807569</td>\n",
       "    </tr>\n",
       "    <tr>\n",
       "      <th>min</th>\n",
       "      <td>4.600000</td>\n",
       "      <td>0.120000</td>\n",
       "      <td>0.000000</td>\n",
       "      <td>0.900000</td>\n",
       "      <td>0.012000</td>\n",
       "      <td>1.000000</td>\n",
       "      <td>6.000000</td>\n",
       "      <td>0.990070</td>\n",
       "      <td>2.740000</td>\n",
       "      <td>0.330000</td>\n",
       "      <td>8.400000</td>\n",
       "      <td>3.000000</td>\n",
       "    </tr>\n",
       "    <tr>\n",
       "      <th>25%</th>\n",
       "      <td>7.100000</td>\n",
       "      <td>0.390000</td>\n",
       "      <td>0.090000</td>\n",
       "      <td>1.900000</td>\n",
       "      <td>0.070000</td>\n",
       "      <td>7.000000</td>\n",
       "      <td>22.000000</td>\n",
       "      <td>0.995600</td>\n",
       "      <td>3.210000</td>\n",
       "      <td>0.550000</td>\n",
       "      <td>9.500000</td>\n",
       "      <td>5.000000</td>\n",
       "    </tr>\n",
       "    <tr>\n",
       "      <th>50%</th>\n",
       "      <td>7.900000</td>\n",
       "      <td>0.520000</td>\n",
       "      <td>0.260000</td>\n",
       "      <td>2.200000</td>\n",
       "      <td>0.079000</td>\n",
       "      <td>14.000000</td>\n",
       "      <td>38.000000</td>\n",
       "      <td>0.996750</td>\n",
       "      <td>3.310000</td>\n",
       "      <td>0.620000</td>\n",
       "      <td>10.200000</td>\n",
       "      <td>6.000000</td>\n",
       "    </tr>\n",
       "    <tr>\n",
       "      <th>75%</th>\n",
       "      <td>9.200000</td>\n",
       "      <td>0.640000</td>\n",
       "      <td>0.420000</td>\n",
       "      <td>2.600000</td>\n",
       "      <td>0.090000</td>\n",
       "      <td>21.000000</td>\n",
       "      <td>62.000000</td>\n",
       "      <td>0.997835</td>\n",
       "      <td>3.400000</td>\n",
       "      <td>0.730000</td>\n",
       "      <td>11.100000</td>\n",
       "      <td>6.000000</td>\n",
       "    </tr>\n",
       "    <tr>\n",
       "      <th>max</th>\n",
       "      <td>15.900000</td>\n",
       "      <td>1.580000</td>\n",
       "      <td>1.000000</td>\n",
       "      <td>15.500000</td>\n",
       "      <td>0.611000</td>\n",
       "      <td>72.000000</td>\n",
       "      <td>289.000000</td>\n",
       "      <td>1.003690</td>\n",
       "      <td>4.010000</td>\n",
       "      <td>2.000000</td>\n",
       "      <td>14.900000</td>\n",
       "      <td>8.000000</td>\n",
       "    </tr>\n",
       "  </tbody>\n",
       "</table>\n",
       "</div>"
      ],
      "text/plain": [
       "       fixed acidity  volatile acidity  citric acid  residual sugar  \\\n",
       "count    1599.000000       1599.000000  1599.000000     1599.000000   \n",
       "mean        8.319637          0.527821     0.270976        2.538806   \n",
       "std         1.741096          0.179060     0.194801        1.409928   \n",
       "min         4.600000          0.120000     0.000000        0.900000   \n",
       "25%         7.100000          0.390000     0.090000        1.900000   \n",
       "50%         7.900000          0.520000     0.260000        2.200000   \n",
       "75%         9.200000          0.640000     0.420000        2.600000   \n",
       "max        15.900000          1.580000     1.000000       15.500000   \n",
       "\n",
       "         chlorides  free sulfur dioxide  total sulfur dioxide      density  \\\n",
       "count  1599.000000          1599.000000           1599.000000  1599.000000   \n",
       "mean      0.087467            15.874922             46.467792     0.996747   \n",
       "std       0.047065            10.460157             32.895324     0.001887   \n",
       "min       0.012000             1.000000              6.000000     0.990070   \n",
       "25%       0.070000             7.000000             22.000000     0.995600   \n",
       "50%       0.079000            14.000000             38.000000     0.996750   \n",
       "75%       0.090000            21.000000             62.000000     0.997835   \n",
       "max       0.611000            72.000000            289.000000     1.003690   \n",
       "\n",
       "                pH    sulphates      alcohol      quality  \n",
       "count  1599.000000  1599.000000  1599.000000  1599.000000  \n",
       "mean      3.311113     0.658149    10.422983     5.636023  \n",
       "std       0.154386     0.169507     1.065668     0.807569  \n",
       "min       2.740000     0.330000     8.400000     3.000000  \n",
       "25%       3.210000     0.550000     9.500000     5.000000  \n",
       "50%       3.310000     0.620000    10.200000     6.000000  \n",
       "75%       3.400000     0.730000    11.100000     6.000000  \n",
       "max       4.010000     2.000000    14.900000     8.000000  "
      ]
     },
     "execution_count": 8,
     "metadata": {},
     "output_type": "execute_result"
    }
   ],
   "source": [
    "data.describe()"
   ]
  },
  {
   "cell_type": "code",
   "execution_count": 9,
   "metadata": {},
   "outputs": [
    {
     "data": {
      "text/html": [
       "<div>\n",
       "<style scoped>\n",
       "    .dataframe tbody tr th:only-of-type {\n",
       "        vertical-align: middle;\n",
       "    }\n",
       "\n",
       "    .dataframe tbody tr th {\n",
       "        vertical-align: top;\n",
       "    }\n",
       "\n",
       "    .dataframe thead th {\n",
       "        text-align: right;\n",
       "    }\n",
       "</style>\n",
       "<table border=\"1\" class=\"dataframe\">\n",
       "  <thead>\n",
       "    <tr style=\"text-align: right;\">\n",
       "      <th></th>\n",
       "      <th>fixed acidity</th>\n",
       "      <th>volatile acidity</th>\n",
       "      <th>citric acid</th>\n",
       "      <th>residual sugar</th>\n",
       "      <th>chlorides</th>\n",
       "      <th>free sulfur dioxide</th>\n",
       "      <th>total sulfur dioxide</th>\n",
       "      <th>density</th>\n",
       "      <th>pH</th>\n",
       "      <th>sulphates</th>\n",
       "      <th>alcohol</th>\n",
       "      <th>quality</th>\n",
       "    </tr>\n",
       "  </thead>\n",
       "  <tbody>\n",
       "    <tr>\n",
       "      <th>0</th>\n",
       "      <td>7.4</td>\n",
       "      <td>0.70</td>\n",
       "      <td>0.00</td>\n",
       "      <td>1.9</td>\n",
       "      <td>0.076</td>\n",
       "      <td>11.0</td>\n",
       "      <td>34.0</td>\n",
       "      <td>0.9978</td>\n",
       "      <td>3.51</td>\n",
       "      <td>0.56</td>\n",
       "      <td>9.4</td>\n",
       "      <td>5</td>\n",
       "    </tr>\n",
       "    <tr>\n",
       "      <th>1</th>\n",
       "      <td>7.8</td>\n",
       "      <td>0.88</td>\n",
       "      <td>0.00</td>\n",
       "      <td>2.6</td>\n",
       "      <td>0.098</td>\n",
       "      <td>25.0</td>\n",
       "      <td>67.0</td>\n",
       "      <td>0.9968</td>\n",
       "      <td>3.20</td>\n",
       "      <td>0.68</td>\n",
       "      <td>9.8</td>\n",
       "      <td>5</td>\n",
       "    </tr>\n",
       "    <tr>\n",
       "      <th>2</th>\n",
       "      <td>7.8</td>\n",
       "      <td>0.76</td>\n",
       "      <td>0.04</td>\n",
       "      <td>2.3</td>\n",
       "      <td>0.092</td>\n",
       "      <td>15.0</td>\n",
       "      <td>54.0</td>\n",
       "      <td>0.9970</td>\n",
       "      <td>3.26</td>\n",
       "      <td>0.65</td>\n",
       "      <td>9.8</td>\n",
       "      <td>5</td>\n",
       "    </tr>\n",
       "    <tr>\n",
       "      <th>3</th>\n",
       "      <td>11.2</td>\n",
       "      <td>0.28</td>\n",
       "      <td>0.56</td>\n",
       "      <td>1.9</td>\n",
       "      <td>0.075</td>\n",
       "      <td>17.0</td>\n",
       "      <td>60.0</td>\n",
       "      <td>0.9980</td>\n",
       "      <td>3.16</td>\n",
       "      <td>0.58</td>\n",
       "      <td>9.8</td>\n",
       "      <td>6</td>\n",
       "    </tr>\n",
       "    <tr>\n",
       "      <th>4</th>\n",
       "      <td>7.4</td>\n",
       "      <td>0.70</td>\n",
       "      <td>0.00</td>\n",
       "      <td>1.9</td>\n",
       "      <td>0.076</td>\n",
       "      <td>11.0</td>\n",
       "      <td>34.0</td>\n",
       "      <td>0.9978</td>\n",
       "      <td>3.51</td>\n",
       "      <td>0.56</td>\n",
       "      <td>9.4</td>\n",
       "      <td>5</td>\n",
       "    </tr>\n",
       "  </tbody>\n",
       "</table>\n",
       "</div>"
      ],
      "text/plain": [
       "   fixed acidity  volatile acidity  citric acid  residual sugar  chlorides  \\\n",
       "0            7.4              0.70         0.00             1.9      0.076   \n",
       "1            7.8              0.88         0.00             2.6      0.098   \n",
       "2            7.8              0.76         0.04             2.3      0.092   \n",
       "3           11.2              0.28         0.56             1.9      0.075   \n",
       "4            7.4              0.70         0.00             1.9      0.076   \n",
       "\n",
       "   free sulfur dioxide  total sulfur dioxide  density    pH  sulphates  \\\n",
       "0                 11.0                  34.0   0.9978  3.51       0.56   \n",
       "1                 25.0                  67.0   0.9968  3.20       0.68   \n",
       "2                 15.0                  54.0   0.9970  3.26       0.65   \n",
       "3                 17.0                  60.0   0.9980  3.16       0.58   \n",
       "4                 11.0                  34.0   0.9978  3.51       0.56   \n",
       "\n",
       "   alcohol  quality  \n",
       "0      9.4        5  \n",
       "1      9.8        5  \n",
       "2      9.8        5  \n",
       "3      9.8        6  \n",
       "4      9.4        5  "
      ]
     },
     "execution_count": 9,
     "metadata": {},
     "output_type": "execute_result"
    }
   ],
   "source": [
    "data.head()"
   ]
  },
  {
   "cell_type": "markdown",
   "metadata": {},
   "source": [
    "3. Столбец с макимальным количеством уникальных значений категориального признака?\n",
    "\n",
    "        В данном случае столбец с максимальным количеством уникальных значений категориального призанака(единственный) - quality."
   ]
  },
  {
   "cell_type": "markdown",
   "metadata": {},
   "source": [
    "4. Есть ли бинарные признаки?\n",
    "\n",
    "        Нет(но далее quality будет переделан в категориальный)."
   ]
  },
  {
   "cell_type": "code",
   "execution_count": 10,
   "metadata": {},
   "outputs": [
    {
     "data": {
      "text/plain": [
       "fixed acidity           0\n",
       "volatile acidity        0\n",
       "citric acid             0\n",
       "residual sugar          0\n",
       "chlorides               0\n",
       "free sulfur dioxide     0\n",
       "total sulfur dioxide    0\n",
       "density                 0\n",
       "pH                      0\n",
       "sulphates               0\n",
       "alcohol                 0\n",
       "quality                 0\n",
       "dtype: int64"
      ]
     },
     "execution_count": 10,
     "metadata": {},
     "output_type": "execute_result"
    }
   ],
   "source": [
    "data.isna().sum() #получим количество пропусков построчно"
   ]
  },
  {
   "cell_type": "markdown",
   "metadata": {},
   "source": [
    "5. Есть ли пропуски?\n",
    "\n",
    "\n",
    "        Исходя из проделанной операции, можно сделать вывод, что пропусков в данных нет."
   ]
  },
  {
   "cell_type": "code",
   "execution_count": 11,
   "metadata": {
    "scrolled": true
   },
   "outputs": [
    {
     "data": {
      "text/html": [
       "<div>\n",
       "<style scoped>\n",
       "    .dataframe tbody tr th:only-of-type {\n",
       "        vertical-align: middle;\n",
       "    }\n",
       "\n",
       "    .dataframe tbody tr th {\n",
       "        vertical-align: top;\n",
       "    }\n",
       "\n",
       "    .dataframe thead th {\n",
       "        text-align: right;\n",
       "    }\n",
       "</style>\n",
       "<table border=\"1\" class=\"dataframe\">\n",
       "  <thead>\n",
       "    <tr style=\"text-align: right;\">\n",
       "      <th></th>\n",
       "      <th>fixed acidity</th>\n",
       "      <th>volatile acidity</th>\n",
       "      <th>citric acid</th>\n",
       "      <th>residual sugar</th>\n",
       "      <th>chlorides</th>\n",
       "      <th>free sulfur dioxide</th>\n",
       "      <th>total sulfur dioxide</th>\n",
       "      <th>density</th>\n",
       "      <th>pH</th>\n",
       "      <th>sulphates</th>\n",
       "      <th>alcohol</th>\n",
       "      <th>quality</th>\n",
       "    </tr>\n",
       "  </thead>\n",
       "  <tbody>\n",
       "    <tr>\n",
       "      <th>count</th>\n",
       "      <td>1599.000000</td>\n",
       "      <td>1599.000000</td>\n",
       "      <td>1599.000000</td>\n",
       "      <td>1599.000000</td>\n",
       "      <td>1599.000000</td>\n",
       "      <td>1599.000000</td>\n",
       "      <td>1599.000000</td>\n",
       "      <td>1599.000000</td>\n",
       "      <td>1599.000000</td>\n",
       "      <td>1599.000000</td>\n",
       "      <td>1599.000000</td>\n",
       "      <td>1599.000000</td>\n",
       "    </tr>\n",
       "    <tr>\n",
       "      <th>mean</th>\n",
       "      <td>8.319637</td>\n",
       "      <td>0.527821</td>\n",
       "      <td>0.270976</td>\n",
       "      <td>2.538806</td>\n",
       "      <td>0.087467</td>\n",
       "      <td>15.874922</td>\n",
       "      <td>46.467792</td>\n",
       "      <td>0.996747</td>\n",
       "      <td>3.311113</td>\n",
       "      <td>0.658149</td>\n",
       "      <td>10.422983</td>\n",
       "      <td>5.636023</td>\n",
       "    </tr>\n",
       "    <tr>\n",
       "      <th>std</th>\n",
       "      <td>1.741096</td>\n",
       "      <td>0.179060</td>\n",
       "      <td>0.194801</td>\n",
       "      <td>1.409928</td>\n",
       "      <td>0.047065</td>\n",
       "      <td>10.460157</td>\n",
       "      <td>32.895324</td>\n",
       "      <td>0.001887</td>\n",
       "      <td>0.154386</td>\n",
       "      <td>0.169507</td>\n",
       "      <td>1.065668</td>\n",
       "      <td>0.807569</td>\n",
       "    </tr>\n",
       "    <tr>\n",
       "      <th>min</th>\n",
       "      <td>4.600000</td>\n",
       "      <td>0.120000</td>\n",
       "      <td>0.000000</td>\n",
       "      <td>0.900000</td>\n",
       "      <td>0.012000</td>\n",
       "      <td>1.000000</td>\n",
       "      <td>6.000000</td>\n",
       "      <td>0.990070</td>\n",
       "      <td>2.740000</td>\n",
       "      <td>0.330000</td>\n",
       "      <td>8.400000</td>\n",
       "      <td>3.000000</td>\n",
       "    </tr>\n",
       "    <tr>\n",
       "      <th>25%</th>\n",
       "      <td>7.100000</td>\n",
       "      <td>0.390000</td>\n",
       "      <td>0.090000</td>\n",
       "      <td>1.900000</td>\n",
       "      <td>0.070000</td>\n",
       "      <td>7.000000</td>\n",
       "      <td>22.000000</td>\n",
       "      <td>0.995600</td>\n",
       "      <td>3.210000</td>\n",
       "      <td>0.550000</td>\n",
       "      <td>9.500000</td>\n",
       "      <td>5.000000</td>\n",
       "    </tr>\n",
       "    <tr>\n",
       "      <th>50%</th>\n",
       "      <td>7.900000</td>\n",
       "      <td>0.520000</td>\n",
       "      <td>0.260000</td>\n",
       "      <td>2.200000</td>\n",
       "      <td>0.079000</td>\n",
       "      <td>14.000000</td>\n",
       "      <td>38.000000</td>\n",
       "      <td>0.996750</td>\n",
       "      <td>3.310000</td>\n",
       "      <td>0.620000</td>\n",
       "      <td>10.200000</td>\n",
       "      <td>6.000000</td>\n",
       "    </tr>\n",
       "    <tr>\n",
       "      <th>75%</th>\n",
       "      <td>9.200000</td>\n",
       "      <td>0.640000</td>\n",
       "      <td>0.420000</td>\n",
       "      <td>2.600000</td>\n",
       "      <td>0.090000</td>\n",
       "      <td>21.000000</td>\n",
       "      <td>62.000000</td>\n",
       "      <td>0.997835</td>\n",
       "      <td>3.400000</td>\n",
       "      <td>0.730000</td>\n",
       "      <td>11.100000</td>\n",
       "      <td>6.000000</td>\n",
       "    </tr>\n",
       "    <tr>\n",
       "      <th>max</th>\n",
       "      <td>15.900000</td>\n",
       "      <td>1.580000</td>\n",
       "      <td>1.000000</td>\n",
       "      <td>15.500000</td>\n",
       "      <td>0.611000</td>\n",
       "      <td>72.000000</td>\n",
       "      <td>289.000000</td>\n",
       "      <td>1.003690</td>\n",
       "      <td>4.010000</td>\n",
       "      <td>2.000000</td>\n",
       "      <td>14.900000</td>\n",
       "      <td>8.000000</td>\n",
       "    </tr>\n",
       "  </tbody>\n",
       "</table>\n",
       "</div>"
      ],
      "text/plain": [
       "       fixed acidity  volatile acidity  citric acid  residual sugar  \\\n",
       "count    1599.000000       1599.000000  1599.000000     1599.000000   \n",
       "mean        8.319637          0.527821     0.270976        2.538806   \n",
       "std         1.741096          0.179060     0.194801        1.409928   \n",
       "min         4.600000          0.120000     0.000000        0.900000   \n",
       "25%         7.100000          0.390000     0.090000        1.900000   \n",
       "50%         7.900000          0.520000     0.260000        2.200000   \n",
       "75%         9.200000          0.640000     0.420000        2.600000   \n",
       "max        15.900000          1.580000     1.000000       15.500000   \n",
       "\n",
       "         chlorides  free sulfur dioxide  total sulfur dioxide      density  \\\n",
       "count  1599.000000          1599.000000           1599.000000  1599.000000   \n",
       "mean      0.087467            15.874922             46.467792     0.996747   \n",
       "std       0.047065            10.460157             32.895324     0.001887   \n",
       "min       0.012000             1.000000              6.000000     0.990070   \n",
       "25%       0.070000             7.000000             22.000000     0.995600   \n",
       "50%       0.079000            14.000000             38.000000     0.996750   \n",
       "75%       0.090000            21.000000             62.000000     0.997835   \n",
       "max       0.611000            72.000000            289.000000     1.003690   \n",
       "\n",
       "                pH    sulphates      alcohol      quality  \n",
       "count  1599.000000  1599.000000  1599.000000  1599.000000  \n",
       "mean      3.311113     0.658149    10.422983     5.636023  \n",
       "std       0.154386     0.169507     1.065668     0.807569  \n",
       "min       2.740000     0.330000     8.400000     3.000000  \n",
       "25%       3.210000     0.550000     9.500000     5.000000  \n",
       "50%       3.310000     0.620000    10.200000     6.000000  \n",
       "75%       3.400000     0.730000    11.100000     6.000000  \n",
       "max       4.010000     2.000000    14.900000     8.000000  "
      ]
     },
     "execution_count": 11,
     "metadata": {},
     "output_type": "execute_result"
    }
   ],
   "source": [
    "data.describe()"
   ]
  },
  {
   "cell_type": "markdown",
   "metadata": {},
   "source": [
    "6. Есть ли на ваш взгляд выбросы, аномальные значения?\n",
    "\n",
    "        По данным таблицы выбросов и аномальных значений в датасете нет."
   ]
  },
  {
   "cell_type": "code",
   "execution_count": 12,
   "metadata": {},
   "outputs": [
    {
     "data": {
      "text/html": [
       "<div>\n",
       "<style scoped>\n",
       "    .dataframe tbody tr th:only-of-type {\n",
       "        vertical-align: middle;\n",
       "    }\n",
       "\n",
       "    .dataframe tbody tr th {\n",
       "        vertical-align: top;\n",
       "    }\n",
       "\n",
       "    .dataframe thead th {\n",
       "        text-align: right;\n",
       "    }\n",
       "</style>\n",
       "<table border=\"1\" class=\"dataframe\">\n",
       "  <thead>\n",
       "    <tr style=\"text-align: right;\">\n",
       "      <th></th>\n",
       "      <th>fixed acidity</th>\n",
       "      <th>volatile acidity</th>\n",
       "      <th>citric acid</th>\n",
       "      <th>residual sugar</th>\n",
       "      <th>chlorides</th>\n",
       "      <th>free sulfur dioxide</th>\n",
       "      <th>total sulfur dioxide</th>\n",
       "      <th>density</th>\n",
       "      <th>pH</th>\n",
       "      <th>sulphates</th>\n",
       "      <th>alcohol</th>\n",
       "      <th>quality</th>\n",
       "    </tr>\n",
       "  </thead>\n",
       "  <tbody>\n",
       "    <tr>\n",
       "      <th>count</th>\n",
       "      <td>1599.000000</td>\n",
       "      <td>1599.000000</td>\n",
       "      <td>1599.000000</td>\n",
       "      <td>1599.000000</td>\n",
       "      <td>1599.000000</td>\n",
       "      <td>1599.000000</td>\n",
       "      <td>1599.000000</td>\n",
       "      <td>1599.000000</td>\n",
       "      <td>1599.000000</td>\n",
       "      <td>1599.000000</td>\n",
       "      <td>1599.000000</td>\n",
       "      <td>1599.000000</td>\n",
       "    </tr>\n",
       "    <tr>\n",
       "      <th>mean</th>\n",
       "      <td>8.319637</td>\n",
       "      <td>0.527821</td>\n",
       "      <td>0.270976</td>\n",
       "      <td>2.538806</td>\n",
       "      <td>0.087467</td>\n",
       "      <td>15.874922</td>\n",
       "      <td>46.467792</td>\n",
       "      <td>0.996747</td>\n",
       "      <td>3.311113</td>\n",
       "      <td>0.658149</td>\n",
       "      <td>10.422983</td>\n",
       "      <td>0.135710</td>\n",
       "    </tr>\n",
       "    <tr>\n",
       "      <th>std</th>\n",
       "      <td>1.741096</td>\n",
       "      <td>0.179060</td>\n",
       "      <td>0.194801</td>\n",
       "      <td>1.409928</td>\n",
       "      <td>0.047065</td>\n",
       "      <td>10.460157</td>\n",
       "      <td>32.895324</td>\n",
       "      <td>0.001887</td>\n",
       "      <td>0.154386</td>\n",
       "      <td>0.169507</td>\n",
       "      <td>1.065668</td>\n",
       "      <td>0.342587</td>\n",
       "    </tr>\n",
       "    <tr>\n",
       "      <th>min</th>\n",
       "      <td>4.600000</td>\n",
       "      <td>0.120000</td>\n",
       "      <td>0.000000</td>\n",
       "      <td>0.900000</td>\n",
       "      <td>0.012000</td>\n",
       "      <td>1.000000</td>\n",
       "      <td>6.000000</td>\n",
       "      <td>0.990070</td>\n",
       "      <td>2.740000</td>\n",
       "      <td>0.330000</td>\n",
       "      <td>8.400000</td>\n",
       "      <td>0.000000</td>\n",
       "    </tr>\n",
       "    <tr>\n",
       "      <th>25%</th>\n",
       "      <td>7.100000</td>\n",
       "      <td>0.390000</td>\n",
       "      <td>0.090000</td>\n",
       "      <td>1.900000</td>\n",
       "      <td>0.070000</td>\n",
       "      <td>7.000000</td>\n",
       "      <td>22.000000</td>\n",
       "      <td>0.995600</td>\n",
       "      <td>3.210000</td>\n",
       "      <td>0.550000</td>\n",
       "      <td>9.500000</td>\n",
       "      <td>0.000000</td>\n",
       "    </tr>\n",
       "    <tr>\n",
       "      <th>50%</th>\n",
       "      <td>7.900000</td>\n",
       "      <td>0.520000</td>\n",
       "      <td>0.260000</td>\n",
       "      <td>2.200000</td>\n",
       "      <td>0.079000</td>\n",
       "      <td>14.000000</td>\n",
       "      <td>38.000000</td>\n",
       "      <td>0.996750</td>\n",
       "      <td>3.310000</td>\n",
       "      <td>0.620000</td>\n",
       "      <td>10.200000</td>\n",
       "      <td>0.000000</td>\n",
       "    </tr>\n",
       "    <tr>\n",
       "      <th>75%</th>\n",
       "      <td>9.200000</td>\n",
       "      <td>0.640000</td>\n",
       "      <td>0.420000</td>\n",
       "      <td>2.600000</td>\n",
       "      <td>0.090000</td>\n",
       "      <td>21.000000</td>\n",
       "      <td>62.000000</td>\n",
       "      <td>0.997835</td>\n",
       "      <td>3.400000</td>\n",
       "      <td>0.730000</td>\n",
       "      <td>11.100000</td>\n",
       "      <td>0.000000</td>\n",
       "    </tr>\n",
       "    <tr>\n",
       "      <th>max</th>\n",
       "      <td>15.900000</td>\n",
       "      <td>1.580000</td>\n",
       "      <td>1.000000</td>\n",
       "      <td>15.500000</td>\n",
       "      <td>0.611000</td>\n",
       "      <td>72.000000</td>\n",
       "      <td>289.000000</td>\n",
       "      <td>1.003690</td>\n",
       "      <td>4.010000</td>\n",
       "      <td>2.000000</td>\n",
       "      <td>14.900000</td>\n",
       "      <td>1.000000</td>\n",
       "    </tr>\n",
       "  </tbody>\n",
       "</table>\n",
       "</div>"
      ],
      "text/plain": [
       "       fixed acidity  volatile acidity  citric acid  residual sugar  \\\n",
       "count    1599.000000       1599.000000  1599.000000     1599.000000   \n",
       "mean        8.319637          0.527821     0.270976        2.538806   \n",
       "std         1.741096          0.179060     0.194801        1.409928   \n",
       "min         4.600000          0.120000     0.000000        0.900000   \n",
       "25%         7.100000          0.390000     0.090000        1.900000   \n",
       "50%         7.900000          0.520000     0.260000        2.200000   \n",
       "75%         9.200000          0.640000     0.420000        2.600000   \n",
       "max        15.900000          1.580000     1.000000       15.500000   \n",
       "\n",
       "         chlorides  free sulfur dioxide  total sulfur dioxide      density  \\\n",
       "count  1599.000000          1599.000000           1599.000000  1599.000000   \n",
       "mean      0.087467            15.874922             46.467792     0.996747   \n",
       "std       0.047065            10.460157             32.895324     0.001887   \n",
       "min       0.012000             1.000000              6.000000     0.990070   \n",
       "25%       0.070000             7.000000             22.000000     0.995600   \n",
       "50%       0.079000            14.000000             38.000000     0.996750   \n",
       "75%       0.090000            21.000000             62.000000     0.997835   \n",
       "max       0.611000            72.000000            289.000000     1.003690   \n",
       "\n",
       "                pH    sulphates      alcohol      quality  \n",
       "count  1599.000000  1599.000000  1599.000000  1599.000000  \n",
       "mean      3.311113     0.658149    10.422983     0.135710  \n",
       "std       0.154386     0.169507     1.065668     0.342587  \n",
       "min       2.740000     0.330000     8.400000     0.000000  \n",
       "25%       3.210000     0.550000     9.500000     0.000000  \n",
       "50%       3.310000     0.620000    10.200000     0.000000  \n",
       "75%       3.400000     0.730000    11.100000     0.000000  \n",
       "max       4.010000     2.000000    14.900000     1.000000  "
      ]
     },
     "execution_count": 12,
     "metadata": {},
     "output_type": "execute_result"
    }
   ],
   "source": [
    "# сделаем признак quality категорильным; если quality > 6.5(из предисловия к датасету), то вино хорошее(будем обозначать 1),\n",
    "# в противном случее, вино плохое(будем обозначать за 0)\n",
    "data.loc[data['quality'] < 6.5, 'quality'] = 0\n",
    "data.loc[data['quality'] > 6.5, 'quality'] = 1\n",
    "data.describe()"
   ]
  },
  {
   "cell_type": "code",
   "execution_count": 13,
   "metadata": {},
   "outputs": [
    {
     "data": {
      "text/html": [
       "<div>\n",
       "<style scoped>\n",
       "    .dataframe tbody tr th:only-of-type {\n",
       "        vertical-align: middle;\n",
       "    }\n",
       "\n",
       "    .dataframe tbody tr th {\n",
       "        vertical-align: top;\n",
       "    }\n",
       "\n",
       "    .dataframe thead th {\n",
       "        text-align: right;\n",
       "    }\n",
       "</style>\n",
       "<table border=\"1\" class=\"dataframe\">\n",
       "  <thead>\n",
       "    <tr style=\"text-align: right;\">\n",
       "      <th></th>\n",
       "      <th>fixed acidity</th>\n",
       "      <th>volatile acidity</th>\n",
       "      <th>citric acid</th>\n",
       "      <th>residual sugar</th>\n",
       "      <th>chlorides</th>\n",
       "      <th>free sulfur dioxide</th>\n",
       "      <th>total sulfur dioxide</th>\n",
       "      <th>density</th>\n",
       "      <th>pH</th>\n",
       "      <th>sulphates</th>\n",
       "      <th>alcohol</th>\n",
       "      <th>quality</th>\n",
       "    </tr>\n",
       "  </thead>\n",
       "  <tbody>\n",
       "    <tr>\n",
       "      <th>count</th>\n",
       "      <td>1.599000e+03</td>\n",
       "      <td>1.599000e+03</td>\n",
       "      <td>1.599000e+03</td>\n",
       "      <td>1.599000e+03</td>\n",
       "      <td>1.599000e+03</td>\n",
       "      <td>1.599000e+03</td>\n",
       "      <td>1.599000e+03</td>\n",
       "      <td>1.599000e+03</td>\n",
       "      <td>1.599000e+03</td>\n",
       "      <td>1.599000e+03</td>\n",
       "      <td>1.599000e+03</td>\n",
       "      <td>1599.000000</td>\n",
       "    </tr>\n",
       "    <tr>\n",
       "      <th>mean</th>\n",
       "      <td>3.435512e-16</td>\n",
       "      <td>1.699704e-16</td>\n",
       "      <td>4.335355e-16</td>\n",
       "      <td>-1.905223e-16</td>\n",
       "      <td>4.838739e-16</td>\n",
       "      <td>1.432042e-16</td>\n",
       "      <td>1.289532e-16</td>\n",
       "      <td>-3.482795e-14</td>\n",
       "      <td>3.002879e-15</td>\n",
       "      <td>7.639596e-16</td>\n",
       "      <td>9.437243e-16</td>\n",
       "      <td>0.135710</td>\n",
       "    </tr>\n",
       "    <tr>\n",
       "      <th>std</th>\n",
       "      <td>1.000313e+00</td>\n",
       "      <td>1.000313e+00</td>\n",
       "      <td>1.000313e+00</td>\n",
       "      <td>1.000313e+00</td>\n",
       "      <td>1.000313e+00</td>\n",
       "      <td>1.000313e+00</td>\n",
       "      <td>1.000313e+00</td>\n",
       "      <td>1.000313e+00</td>\n",
       "      <td>1.000313e+00</td>\n",
       "      <td>1.000313e+00</td>\n",
       "      <td>1.000313e+00</td>\n",
       "      <td>0.342587</td>\n",
       "    </tr>\n",
       "    <tr>\n",
       "      <th>min</th>\n",
       "      <td>-2.137045e+00</td>\n",
       "      <td>-2.278280e+00</td>\n",
       "      <td>-1.391472e+00</td>\n",
       "      <td>-1.162696e+00</td>\n",
       "      <td>-1.603945e+00</td>\n",
       "      <td>-1.422500e+00</td>\n",
       "      <td>-1.230584e+00</td>\n",
       "      <td>-3.538731e+00</td>\n",
       "      <td>-3.700401e+00</td>\n",
       "      <td>-1.936507e+00</td>\n",
       "      <td>-1.898919e+00</td>\n",
       "      <td>0.000000</td>\n",
       "    </tr>\n",
       "    <tr>\n",
       "      <th>25%</th>\n",
       "      <td>-7.007187e-01</td>\n",
       "      <td>-7.699311e-01</td>\n",
       "      <td>-9.293181e-01</td>\n",
       "      <td>-4.532184e-01</td>\n",
       "      <td>-3.712290e-01</td>\n",
       "      <td>-8.487156e-01</td>\n",
       "      <td>-7.440403e-01</td>\n",
       "      <td>-6.077557e-01</td>\n",
       "      <td>-6.551405e-01</td>\n",
       "      <td>-6.382196e-01</td>\n",
       "      <td>-8.663789e-01</td>\n",
       "      <td>0.000000</td>\n",
       "    </tr>\n",
       "    <tr>\n",
       "      <th>50%</th>\n",
       "      <td>-2.410944e-01</td>\n",
       "      <td>-4.368911e-02</td>\n",
       "      <td>-5.636026e-02</td>\n",
       "      <td>-2.403750e-01</td>\n",
       "      <td>-1.799455e-01</td>\n",
       "      <td>-1.793002e-01</td>\n",
       "      <td>-2.574968e-01</td>\n",
       "      <td>1.760083e-03</td>\n",
       "      <td>-7.212705e-03</td>\n",
       "      <td>-2.251281e-01</td>\n",
       "      <td>-2.093081e-01</td>\n",
       "      <td>0.000000</td>\n",
       "    </tr>\n",
       "    <tr>\n",
       "      <th>75%</th>\n",
       "      <td>5.057952e-01</td>\n",
       "      <td>6.266881e-01</td>\n",
       "      <td>7.652471e-01</td>\n",
       "      <td>4.341614e-02</td>\n",
       "      <td>5.384542e-02</td>\n",
       "      <td>4.901152e-01</td>\n",
       "      <td>4.723184e-01</td>\n",
       "      <td>5.768249e-01</td>\n",
       "      <td>5.759223e-01</td>\n",
       "      <td>4.240158e-01</td>\n",
       "      <td>6.354971e-01</td>\n",
       "      <td>0.000000</td>\n",
       "    </tr>\n",
       "    <tr>\n",
       "      <th>max</th>\n",
       "      <td>4.355149e+00</td>\n",
       "      <td>5.877976e+00</td>\n",
       "      <td>3.743574e+00</td>\n",
       "      <td>9.195681e+00</td>\n",
       "      <td>1.112703e+01</td>\n",
       "      <td>5.367284e+00</td>\n",
       "      <td>7.375154e+00</td>\n",
       "      <td>3.680055e+00</td>\n",
       "      <td>4.528282e+00</td>\n",
       "      <td>7.918677e+00</td>\n",
       "      <td>4.202453e+00</td>\n",
       "      <td>1.000000</td>\n",
       "    </tr>\n",
       "  </tbody>\n",
       "</table>\n",
       "</div>"
      ],
      "text/plain": [
       "       fixed acidity  volatile acidity   citric acid  residual sugar  \\\n",
       "count   1.599000e+03      1.599000e+03  1.599000e+03    1.599000e+03   \n",
       "mean    3.435512e-16      1.699704e-16  4.335355e-16   -1.905223e-16   \n",
       "std     1.000313e+00      1.000313e+00  1.000313e+00    1.000313e+00   \n",
       "min    -2.137045e+00     -2.278280e+00 -1.391472e+00   -1.162696e+00   \n",
       "25%    -7.007187e-01     -7.699311e-01 -9.293181e-01   -4.532184e-01   \n",
       "50%    -2.410944e-01     -4.368911e-02 -5.636026e-02   -2.403750e-01   \n",
       "75%     5.057952e-01      6.266881e-01  7.652471e-01    4.341614e-02   \n",
       "max     4.355149e+00      5.877976e+00  3.743574e+00    9.195681e+00   \n",
       "\n",
       "          chlorides  free sulfur dioxide  total sulfur dioxide       density  \\\n",
       "count  1.599000e+03         1.599000e+03          1.599000e+03  1.599000e+03   \n",
       "mean   4.838739e-16         1.432042e-16          1.289532e-16 -3.482795e-14   \n",
       "std    1.000313e+00         1.000313e+00          1.000313e+00  1.000313e+00   \n",
       "min   -1.603945e+00        -1.422500e+00         -1.230584e+00 -3.538731e+00   \n",
       "25%   -3.712290e-01        -8.487156e-01         -7.440403e-01 -6.077557e-01   \n",
       "50%   -1.799455e-01        -1.793002e-01         -2.574968e-01  1.760083e-03   \n",
       "75%    5.384542e-02         4.901152e-01          4.723184e-01  5.768249e-01   \n",
       "max    1.112703e+01         5.367284e+00          7.375154e+00  3.680055e+00   \n",
       "\n",
       "                 pH     sulphates       alcohol      quality  \n",
       "count  1.599000e+03  1.599000e+03  1.599000e+03  1599.000000  \n",
       "mean   3.002879e-15  7.639596e-16  9.437243e-16     0.135710  \n",
       "std    1.000313e+00  1.000313e+00  1.000313e+00     0.342587  \n",
       "min   -3.700401e+00 -1.936507e+00 -1.898919e+00     0.000000  \n",
       "25%   -6.551405e-01 -6.382196e-01 -8.663789e-01     0.000000  \n",
       "50%   -7.212705e-03 -2.251281e-01 -2.093081e-01     0.000000  \n",
       "75%    5.759223e-01  4.240158e-01  6.354971e-01     0.000000  \n",
       "max    4.528282e+00  7.918677e+00  4.202453e+00     1.000000  "
      ]
     },
     "execution_count": 13,
     "metadata": {},
     "output_type": "execute_result"
    }
   ],
   "source": [
    "# нормируем данные с помощью стандартного отклонения\n",
    "# я не стал нормировать признак \n",
    "columns = data.columns.tolist()\n",
    "from sklearn.preprocessing import StandardScaler \n",
    "scale = StandardScaler() \n",
    "average_values = []\n",
    "for i in columns:\n",
    "    if i == 'quality': #не берем данный признак, т к он категорильный\n",
    "        break\n",
    "    data[i] = scale.fit_transform(data[[i]])\n",
    "    average_values.append(data[i].mean())\n",
    "data.describe()"
   ]
  },
  {
   "cell_type": "markdown",
   "metadata": {},
   "source": [
    "7. Столбец с максимальным средним значением после нормировки признаков через стандартное отклонение?\n",
    "\n",
    "        По полученным данным столбец с максимальным средним значением после нормировки признаков через стандартное отклонение - 'pH'.\n",
    "8. Столбец с целевым признаком?\n",
    "\n",
    "           Опираясь на условие задачи, можно сделать вывод, что целевой признак - это quality"
   ]
  },
  {
   "cell_type": "code",
   "execution_count": 14,
   "metadata": {},
   "outputs": [],
   "source": [
    "target = data.quality\n",
    "del data['quality']\n",
    "train = data"
   ]
  },
  {
   "cell_type": "code",
   "execution_count": 15,
   "metadata": {},
   "outputs": [
    {
     "data": {
      "text/html": [
       "<div>\n",
       "<style scoped>\n",
       "    .dataframe tbody tr th:only-of-type {\n",
       "        vertical-align: middle;\n",
       "    }\n",
       "\n",
       "    .dataframe tbody tr th {\n",
       "        vertical-align: top;\n",
       "    }\n",
       "\n",
       "    .dataframe thead th {\n",
       "        text-align: right;\n",
       "    }\n",
       "</style>\n",
       "<table border=\"1\" class=\"dataframe\">\n",
       "  <thead>\n",
       "    <tr style=\"text-align: right;\">\n",
       "      <th></th>\n",
       "      <th>fixed acidity</th>\n",
       "      <th>volatile acidity</th>\n",
       "      <th>citric acid</th>\n",
       "      <th>residual sugar</th>\n",
       "      <th>chlorides</th>\n",
       "      <th>free sulfur dioxide</th>\n",
       "      <th>total sulfur dioxide</th>\n",
       "      <th>density</th>\n",
       "      <th>pH</th>\n",
       "      <th>sulphates</th>\n",
       "      <th>alcohol</th>\n",
       "    </tr>\n",
       "  </thead>\n",
       "  <tbody>\n",
       "    <tr>\n",
       "      <th>0</th>\n",
       "      <td>-0.528360</td>\n",
       "      <td>0.961877</td>\n",
       "      <td>-1.391472</td>\n",
       "      <td>-0.453218</td>\n",
       "      <td>-0.243707</td>\n",
       "      <td>-0.466193</td>\n",
       "      <td>-0.379133</td>\n",
       "      <td>0.558274</td>\n",
       "      <td>1.288643</td>\n",
       "      <td>-0.579207</td>\n",
       "      <td>-0.960246</td>\n",
       "    </tr>\n",
       "    <tr>\n",
       "      <th>1</th>\n",
       "      <td>-0.298547</td>\n",
       "      <td>1.967442</td>\n",
       "      <td>-1.391472</td>\n",
       "      <td>0.043416</td>\n",
       "      <td>0.223875</td>\n",
       "      <td>0.872638</td>\n",
       "      <td>0.624363</td>\n",
       "      <td>0.028261</td>\n",
       "      <td>-0.719933</td>\n",
       "      <td>0.128950</td>\n",
       "      <td>-0.584777</td>\n",
       "    </tr>\n",
       "    <tr>\n",
       "      <th>2</th>\n",
       "      <td>-0.298547</td>\n",
       "      <td>1.297065</td>\n",
       "      <td>-1.186070</td>\n",
       "      <td>-0.169427</td>\n",
       "      <td>0.096353</td>\n",
       "      <td>-0.083669</td>\n",
       "      <td>0.229047</td>\n",
       "      <td>0.134264</td>\n",
       "      <td>-0.331177</td>\n",
       "      <td>-0.048089</td>\n",
       "      <td>-0.584777</td>\n",
       "    </tr>\n",
       "    <tr>\n",
       "      <th>3</th>\n",
       "      <td>1.654856</td>\n",
       "      <td>-1.384443</td>\n",
       "      <td>1.484154</td>\n",
       "      <td>-0.453218</td>\n",
       "      <td>-0.264960</td>\n",
       "      <td>0.107592</td>\n",
       "      <td>0.411500</td>\n",
       "      <td>0.664277</td>\n",
       "      <td>-0.979104</td>\n",
       "      <td>-0.461180</td>\n",
       "      <td>-0.584777</td>\n",
       "    </tr>\n",
       "    <tr>\n",
       "      <th>4</th>\n",
       "      <td>-0.528360</td>\n",
       "      <td>0.961877</td>\n",
       "      <td>-1.391472</td>\n",
       "      <td>-0.453218</td>\n",
       "      <td>-0.243707</td>\n",
       "      <td>-0.466193</td>\n",
       "      <td>-0.379133</td>\n",
       "      <td>0.558274</td>\n",
       "      <td>1.288643</td>\n",
       "      <td>-0.579207</td>\n",
       "      <td>-0.960246</td>\n",
       "    </tr>\n",
       "  </tbody>\n",
       "</table>\n",
       "</div>"
      ],
      "text/plain": [
       "   fixed acidity  volatile acidity  citric acid  residual sugar  chlorides  \\\n",
       "0      -0.528360          0.961877    -1.391472       -0.453218  -0.243707   \n",
       "1      -0.298547          1.967442    -1.391472        0.043416   0.223875   \n",
       "2      -0.298547          1.297065    -1.186070       -0.169427   0.096353   \n",
       "3       1.654856         -1.384443     1.484154       -0.453218  -0.264960   \n",
       "4      -0.528360          0.961877    -1.391472       -0.453218  -0.243707   \n",
       "\n",
       "   free sulfur dioxide  total sulfur dioxide   density        pH  sulphates  \\\n",
       "0            -0.466193             -0.379133  0.558274  1.288643  -0.579207   \n",
       "1             0.872638              0.624363  0.028261 -0.719933   0.128950   \n",
       "2            -0.083669              0.229047  0.134264 -0.331177  -0.048089   \n",
       "3             0.107592              0.411500  0.664277 -0.979104  -0.461180   \n",
       "4            -0.466193             -0.379133  0.558274  1.288643  -0.579207   \n",
       "\n",
       "    alcohol  \n",
       "0 -0.960246  \n",
       "1 -0.584777  \n",
       "2 -0.584777  \n",
       "3 -0.584777  \n",
       "4 -0.960246  "
      ]
     },
     "execution_count": 15,
     "metadata": {},
     "output_type": "execute_result"
    }
   ],
   "source": [
    "train.head()"
   ]
  },
  {
   "cell_type": "code",
   "execution_count": 16,
   "metadata": {},
   "outputs": [
    {
     "data": {
      "text/plain": [
       "(1119, 480)"
      ]
     },
     "execution_count": 16,
     "metadata": {},
     "output_type": "execute_result"
    }
   ],
   "source": [
    "# Выделим тренировочную и тетовую выборку\n",
    "# y - целевая переменнная (target)\n",
    "from sklearn.model_selection import train_test_split\n",
    "X_train, X_test, y_train, y_test = train_test_split(train, target, test_size = 0.3, random_state = 42)\n",
    "N_train, _ = X_train.shape\n",
    "N_test, _ = X_test.shape\n",
    "\n",
    "N_train, N_test"
   ]
  },
  {
   "cell_type": "markdown",
   "metadata": {},
   "source": [
    "11. Сколько объектов попадает в тренировочную выборку при использовании train_test_split с параметрами test_size = 0.3, random_state = 42?\n",
    "\n",
    "        В тренировочную выборку попадает 1119 объектов."
   ]
  },
  {
   "cell_type": "code",
   "execution_count": 17,
   "metadata": {},
   "outputs": [
    {
     "name": "stdout",
     "output_type": "stream",
     "text": [
      "1 component: 27.68% of initial variance\n",
      "0.478 x fixed acidity + -0.255 x volatile acidity + 0.478 x citric acid + 0.168 x residual sugar + 0.214 x chlorides + -0.028 x free sulfur dioxide + 0.030 x total sulfur dioxide + 0.376 x density + -0.437 x pH + 0.250 x sulphates + -0.088 x alcohol\n",
      "2 component: 17.27% of initial variance\n",
      "-0.091 x fixed acidity + 0.300 x volatile acidity + -0.147 x citric acid + 0.235 x residual sugar + 0.139 x chlorides + 0.486 x free sulfur dioxide + 0.568 x total sulfur dioxide + 0.240 x density + -0.017 x pH + -0.072 x sulphates + -0.428 x alcohol\n",
      "3 component: 13.95% of initial variance\n",
      "-0.167 x fixed acidity + -0.444 x volatile acidity + 0.202 x citric acid + 0.069 x residual sugar + -0.081 x chlorides + 0.455 x free sulfur dioxide + 0.359 x total sulfur dioxide + -0.336 x density + 0.083 x pH + 0.307 x sulphates + 0.416 x alcohol\n",
      "4 component: 11.13% of initial variance\n",
      "-0.208 x fixed acidity + 0.123 x volatile acidity + -0.096 x citric acid + -0.375 x residual sugar + 0.665 x chlorides + -0.057 x free sulfur dioxide + -0.050 x total sulfur dioxide + -0.156 x density + -0.015 x pH + 0.548 x sulphates + -0.138 x alcohol\n",
      "5 component: 9.21% of initial variance\n",
      "-0.119 x fixed acidity + 0.212 x volatile acidity + -0.058 x citric acid + 0.753 x residual sugar + 0.248 x chlorides + -0.123 x free sulfur dioxide + -0.189 x total sulfur dioxide + 0.151 x density + 0.276 x pH + 0.217 x sulphates + 0.335 x alcohol\n",
      "6 component: 6.13% of initial variance\n",
      "0.136 x fixed acidity + 0.431 x volatile acidity + 0.079 x citric acid + 0.024 x residual sugar + 0.278 x chlorides + 0.025 x free sulfur dioxide + 0.139 x total sulfur dioxide + -0.390 x density + -0.487 x pH + -0.354 x sulphates + 0.422 x alcohol\n",
      "7 component: 5.33% of initial variance\n",
      "-0.346 x fixed acidity + -0.486 x volatile acidity + 0.150 x citric acid + 0.239 x residual sugar + 0.421 x chlorides + -0.111 x free sulfur dioxide + -0.071 x total sulfur dioxide + -0.196 x density + -0.020 x pH + -0.492 x sulphates + -0.297 x alcohol\n",
      "8 component: 3.95% of initial variance\n",
      "-0.196 x fixed acidity + -0.097 x volatile acidity + -0.380 x citric acid + 0.320 x residual sugar + -0.315 x chlorides + -0.155 x free sulfur dioxide + -0.042 x total sulfur dioxide + -0.264 x density + -0.600 x pH + 0.313 x sulphates + -0.230 x alcohol\n",
      "9 component: 3.15% of initial variance\n",
      "-0.209 x fixed acidity + 0.149 x volatile acidity + 0.364 x citric acid + 0.004 x residual sugar + -0.149 x chlorides + -0.650 x free sulfur dioxide + 0.575 x total sulfur dioxide + -0.052 x density + 0.111 x pH + 0.094 x sulphates + -0.048 x alcohol\n",
      "10 component: 1.64% of initial variance\n",
      "-0.236 x fixed acidity + 0.366 x volatile acidity + 0.622 x citric acid + 0.071 x residual sugar + -0.218 x chlorides + 0.272 x free sulfur dioxide + -0.386 x total sulfur dioxide + -0.233 x density + 0.001 x pH + 0.104 x sulphates + -0.289 x alcohol\n",
      "11 component: 0.56% of initial variance\n",
      "0.634 x fixed acidity + -0.004 x volatile acidity + -0.071 x citric acid + 0.195 x residual sugar + 0.045 x chlorides + -0.058 x free sulfur dioxide + 0.066 x total sulfur dioxide + -0.569 x density + 0.340 x pH + 0.076 x sulphates + -0.316 x alcohol\n"
     ]
    },
    {
     "data": {
      "text/plain": [
       "<matplotlib.lines.Line2D at 0x1a03c46cfd0>"
      ]
     },
     "execution_count": 17,
     "metadata": {},
     "output_type": "execute_result"
    },
    {
     "data": {
      "image/png": "[encoded data removed]",
      "text/plain": [
       "<Figure size 720x504 with 1 Axes>"
      ]
     },
     "metadata": {
      "needs_background": "light"
     },
     "output_type": "display_data"
    }
   ],
   "source": [
    "from sklearn.decomposition import PCA\n",
    "%matplotlib inline\n",
    "\n",
    "pca = PCA()\n",
    "pca.fit(X_train)\n",
    "X_pca = pca.transform(X_train)\n",
    "\n",
    "for i, component in enumerate(pca.components_):\n",
    "     print(\"{} component: {}% of initial variance\".format(i + 1,\n",
    "         round(100 * pca.explained_variance_ratio_[i], 2)))\n",
    "     print(\" + \".join(\"%.3f x %s\" % (value, name)\n",
    "         for value, name in zip(component,train.columns)))\n",
    "    \n",
    "plt.figure(figsize=(10,7))\n",
    "plt.plot(np.cumsum(pca.explained_variance_ratio_), color='k', lw=2)\n",
    "plt.axhline(0.9, c='r')\n",
    "plt.axvline(6, c='b')"
   ]
  },
  {
   "cell_type": "markdown",
   "metadata": {},
   "source": [
    "12. Сколько признаков достаточно для объяснения 90% дисперсии после применения метода PCA?\n",
    "\n",
    "        Для объяснения 90 % процентов всех признаков достаточно 7 признаков.\n",
    "13. Какой признак вносит наибольший вклад в первую компоненту?\n",
    "\n",
    "        Признаки 'fixed acidity' и 'citric acid' вносят наибольший вклад в первую компонентуу них множитель 0.478)."
   ]
  },
  {
   "cell_type": "markdown",
   "metadata": {},
   "source": [
    "#                                                 Задача 4"
   ]
  },
  {
   "cell_type": "markdown",
   "metadata": {},
   "source": [
    "Из инфрмации по датасету следует, что задача по нему - классификация вин или регрессия.\n",
    "Я хотел бы поработать с классификацей данных, используя различные методы и сравнивая их результаты."
   ]
  },
  {
   "cell_type": "markdown",
   "metadata": {},
   "source": [
    "1) Метод k-ближайших соседей."
   ]
  },
  {
   "cell_type": "code",
   "execution_count": 173,
   "metadata": {},
   "outputs": [
    {
     "data": {
      "text/plain": [
       "KNeighborsClassifier(algorithm='auto', leaf_size=30, metric='minkowski',\n",
       "           metric_params=None, n_jobs=None, n_neighbors=5, p=2,\n",
       "           weights='uniform')"
      ]
     },
     "execution_count": 173,
     "metadata": {},
     "output_type": "execute_result"
    }
   ],
   "source": [
    "# Для нового объекта алгоритм ищет в обучающей выборке k наиболее близких объекта и относит новый объект к тому классу, \n",
    "#которому принадлежит большинство из них.\n",
    "# Количество соседей k соответствует параметру n_neighbors. По умолчанию, n_neighbors = 5.\n",
    "\n",
    "from sklearn.neighbors import KNeighborsClassifier\n",
    "\n",
    "knn = KNeighborsClassifier()\n",
    "knn.fit(X_train, y_train)"
   ]
  },
  {
   "cell_type": "code",
   "execution_count": 174,
   "metadata": {},
   "outputs": [
    {
     "name": "stdout",
     "output_type": "stream",
     "text": [
      "0.09919571045576407 0.12916666666666668\n"
     ]
    }
   ],
   "source": [
    "# Предскажем значение целевого признака по входным признакам для новых объектов.\n",
    "# Нас интересует качество построенной модели, поэтому будем предсказывать значение выходного признака на тех данных, \n",
    "# для которых оно известно: на обучающей и (что более важно) тестовой выборках:\n",
    "y_train_predict = knn.predict(X_train)\n",
    "y_test_predict = knn.predict(X_test)\n",
    "\n",
    "err_train = np.mean(y_train != y_train_predict)\n",
    "err_test  = np.mean(y_test  != y_test_predict)\n",
    "print(err_train, err_test)"
   ]
  },
  {
   "cell_type": "markdown",
   "metadata": {},
   "source": [
    "Видно, что ошибки составили: на обучающей модели = 9%, на тестовой = 12.9%.\n",
    "Ошибки на тестовой нам более важны, т. к. мы должны уметь предсказывать ошибки на новых объектах, которые при обучении недоступны.\n",
    "Осноновной пареметр метода - k, попробуем с ним поработать. Надйдем наилучшее значение k от 1 до 11."
   ]
  },
  {
   "cell_type": "code",
   "execution_count": 186,
   "metadata": {},
   "outputs": [
    {
     "name": "stdout",
     "output_type": "stream",
     "text": [
      "0.12421805183199286 4\n"
     ]
    }
   ],
   "source": [
    "from sklearn.model_selection import GridSearchCV\n",
    "n_neighbors_array = [i for i in range(1,12)]\n",
    "knn = KNeighborsClassifier(n_neighbors=5)\n",
    "grid = GridSearchCV(knn, param_grid={'n_neighbors': n_neighbors_array})\n",
    "grid.fit(X_train, y_train)\n",
    "\n",
    "best_cv_err = 1 - grid.best_score_\n",
    "best_n_neighbors = grid.best_estimator_.n_neighbors\n",
    "print(best_cv_err, best_n_neighbors)\n",
    "# Кросс-валидация, которую ещё называют перекрестной проверкой, это техника валидации модели для проверки того, \n",
    "# насколько успешно применяемый в модели статистический анализ способен работать на независимом наборе данных."
   ]
  },
  {
   "cell_type": "code",
   "execution_count": 187,
   "metadata": {},
   "outputs": [
    {
     "name": "stdout",
     "output_type": "stream",
     "text": [
      "0.08668453976764968 0.11875\n"
     ]
    }
   ],
   "source": [
    "# Как видно в качестве оптимального метод выбрал значение k равное 4, при которой ошибка перекрестной проверки составляет\n",
    "# примерно 12.4 процентов, что немного ниже ошибки на тестовой модели. Теперь попробуем метод с данным параметром k:\n",
    "knn = KNeighborsClassifier(n_neighbors=best_n_neighbors)\n",
    "knn.fit(X_train, y_train)\n",
    "\n",
    "err_train = np.mean(y_train != knn.predict(X_train))\n",
    "err_test  = np.mean(y_test  != knn.predict(X_test))\n",
    "print(err_train, err_test)"
   ]
  },
  {
   "cell_type": "markdown",
   "metadata": {},
   "source": [
    "Коэффиценты ошибки уменьшились. Результат неплох. Но стоит поработать и с другими методами."
   ]
  },
  {
   "cell_type": "markdown",
   "metadata": {},
   "source": [
    "2)Следующий метод - Random Forest; \n",
    "Данный алгоритм Алгоритм строит ансамбль случайных деревьев, каждое из которых обучается на выборке, полученной из исходной с помощью процедуры изъятия с возвращением."
   ]
  },
  {
   "cell_type": "code",
   "execution_count": 188,
   "metadata": {},
   "outputs": [
    {
     "name": "stdout",
     "output_type": "stream",
     "text": [
      "0.0 0.1125\n"
     ]
    }
   ],
   "source": [
    "from sklearn import ensemble\n",
    "rf = ensemble.RandomForestClassifier(n_estimators=100, random_state=11)\n",
    "rf.fit(X_train, y_train)\n",
    "\n",
    "err_train = np.mean(y_train != rf.predict(X_train))\n",
    "err_test  = np.mean(y_test  != rf.predict(X_test))\n",
    "print(err_train, err_test)"
   ]
  },
  {
   "cell_type": "markdown",
   "metadata": {},
   "source": [
    "Получили ошибку на тестовой выборке 11.25 процентов, что чуть лучше прежних результатов. На тренировочной выборке мы получили ошибку в 0%, тогда возникает проблема переобчения, но т. к. наша ошибка тестовой выборки очень хороша проблема переобчения отпадает."
   ]
  },
  {
   "cell_type": "markdown",
   "metadata": {},
   "source": [
    "3) метод GBT – градиентный бустинг деревьев решений"
   ]
  },
  {
   "cell_type": "code",
   "execution_count": 189,
   "metadata": {},
   "outputs": [
    {
     "name": "stdout",
     "output_type": "stream",
     "text": [
      "0.035746201966041107 0.13958333333333334\n"
     ]
    }
   ],
   "source": [
    "from sklearn import ensemble\n",
    "gbt = ensemble.GradientBoostingClassifier(n_estimators=100, random_state=11)\n",
    "gbt.fit(X_train, y_train)\n",
    "\n",
    "err_train = np.mean(y_train != gbt.predict(X_train))\n",
    "err_test = np.mean(y_test != gbt.predict(X_test))\n",
    "print(err_train, err_test)"
   ]
  },
  {
   "cell_type": "markdown",
   "metadata": {},
   "source": [
    "Результат хуже, чем при других методах."
   ]
  },
  {
   "cell_type": "markdown",
   "metadata": {},
   "source": [
    "4) метов SVC - support vector classifier"
   ]
  },
  {
   "cell_type": "code",
   "execution_count": 190,
   "metadata": {},
   "outputs": [
    {
     "name": "stdout",
     "output_type": "stream",
     "text": [
      "0.09919571045576407 0.11666666666666667\n"
     ]
    }
   ],
   "source": [
    "from sklearn.svm import SVC\n",
    "svc = SVC()\n",
    "svc.fit(X_train, y_train)\n",
    "\n",
    "err_train = np.mean(y_train != svc.predict(X_train))\n",
    "err_test  = np.mean(y_test  != svc.predict(X_test))\n",
    "print(err_train, err_test)"
   ]
  },
  {
   "cell_type": "code",
   "execution_count": 180,
   "metadata": {},
   "outputs": [
    {
     "name": "stdout",
     "output_type": "stream",
     "text": [
      "0.13404825737265416 0.13958333333333334\n"
     ]
    }
   ],
   "source": [
    "# мы получили  результат - ошибка в 11.6 %. Попобуем поменять ядро\n",
    "svc = SVC(kernel='linear')\n",
    "svc.fit(X_train, y_train)\n",
    "\n",
    "err_train = np.mean(y_train != svc.predict(X_train))\n",
    "err_test  = np.mean(y_test  != svc.predict(X_test))\n",
    "print(err_train, err_test)"
   ]
  },
  {
   "cell_type": "code",
   "execution_count": 191,
   "metadata": {},
   "outputs": [
    {
     "name": "stdout",
     "output_type": "stream",
     "text": [
      "0.08579088471849866 0.12083333333333333\n"
     ]
    }
   ],
   "source": [
    "# Результат хуже\n",
    "svc = SVC(kernel='poly')\n",
    "svc.fit(X_train, y_train)\n",
    "\n",
    "err_train = np.mean(y_train != svc.predict(X_train))\n",
    "err_test  = np.mean(y_test  != svc.predict(X_test))\n",
    "print(err_train, err_test)"
   ]
  },
  {
   "cell_type": "markdown",
   "metadata": {},
   "source": [
    "Ошибка с полиномиальным ядром ровно 12 %."
   ]
  },
  {
   "cell_type": "code",
   "execution_count": 192,
   "metadata": {},
   "outputs": [
    {
     "name": "stdout",
     "output_type": "stream",
     "text": [
      "CV error    =  0.1045576407506702\n",
      "best C      =  10.0\n",
      "best gamma  =  1.0\n"
     ]
    }
   ],
   "source": [
    "# попробуем подобрать наилучшие параметры для радиального ядра\n",
    "from sklearn.model_selection import GridSearchCV\n",
    "C_array = np.logspace(-3, 3, num=7)\n",
    "gamma_array = np.logspace(-5, 2, num=8)\n",
    "svc = SVC(kernel='rbf')\n",
    "grid = GridSearchCV(svc, param_grid={'C': C_array, 'gamma': gamma_array})\n",
    "grid.fit(X_train, y_train)\n",
    "print('CV error    = ', 1 - grid.best_score_)\n",
    "print('best C      = ', grid.best_estimator_.C)\n",
    "print('best gamma  = ', grid.best_estimator_.gamma)"
   ]
  },
  {
   "cell_type": "code",
   "execution_count": 193,
   "metadata": {},
   "outputs": [
    {
     "name": "stdout",
     "output_type": "stream",
     "text": [
      "0.0 0.10208333333333333\n"
     ]
    }
   ],
   "source": [
    "svc = SVC(kernel='rbf', C=grid.best_estimator_.C, gamma=grid.best_estimator_.gamma)\n",
    "svc.fit(X_train, y_train)\n",
    "\n",
    "err_train = np.mean(y_train != svc.predict(X_train))\n",
    "err_test  = np.mean(y_test  != svc.predict(X_test))\n",
    "print(err_train, err_test)"
   ]
  },
  {
   "cell_type": "markdown",
   "metadata": {},
   "source": [
    "Результат просто отличный, мы получили луший пока что процент ошибки в 10.2%!\n",
    "С остальными ядрами все хуже, попытка найти подходящие параметры для них оказалась безуспешной. Видимо, задача не решается для них."
   ]
  },
  {
   "cell_type": "code",
   "execution_count": 2,
   "metadata": {},
   "outputs": [],
   "source": [
    "# Тепрь моя дополнительная задача: проделать все то же самое, но уже без нормирования данных\n",
    "data = pd.read_csv('C:/Users/Mishan/Desktop/Программирование/Практика/winequality-red.csv')"
   ]
  },
  {
   "cell_type": "code",
   "execution_count": 3,
   "metadata": {},
   "outputs": [],
   "source": [
    "data.loc[data['quality'] < 6.5, 'quality'] = 0\n",
    "data.loc[data['quality'] > 6.5, 'quality'] = 1"
   ]
  },
  {
   "cell_type": "code",
   "execution_count": 4,
   "metadata": {},
   "outputs": [],
   "source": [
    "target = data.quality\n",
    "del data['quality']\n",
    "train = data"
   ]
  },
  {
   "cell_type": "code",
   "execution_count": 5,
   "metadata": {},
   "outputs": [
    {
     "name": "stdout",
     "output_type": "stream",
     "text": [
      "1 component: 94.86% of initial variance\n",
      "-0.006 x fixed acidity + 0.000 x volatile acidity + 0.000 x citric acid + 0.007 x residual sugar + 0.000 x chlorides + 0.214 x free sulfur dioxide + 0.977 x total sulfur dioxide + 0.000 x density + -0.000 x pH + 0.000 x sulphates + -0.007 x alcohol\n",
      "2 component: 4.64% of initial variance\n",
      "-0.024 x fixed acidity + -0.002 x volatile acidity + -0.003 x citric acid + 0.008 x residual sugar + -0.000 x chlorides + 0.976 x free sulfur dioxide + -0.214 x total sulfur dioxide + -0.000 x density + 0.003 x pH + 0.001 x sulphates + 0.014 x alcohol\n",
      "3 component: 0.25% of initial variance\n",
      "0.942 x fixed acidity + -0.025 x volatile acidity + 0.074 x citric acid + 0.318 x residual sugar + 0.003 x chlorides + 0.020 x free sulfur dioxide + -0.002 x total sulfur dioxide + 0.001 x density + -0.058 x pH + 0.016 x sulphates + -0.030 x alcohol\n",
      "4 component: 0.16% of initial variance\n",
      "-0.307 x fixed acidity + 0.008 x volatile acidity + -0.010 x citric acid + 0.933 x residual sugar + -0.000 x chlorides + -0.019 x free sulfur dioxide + -0.003 x total sulfur dioxide + 0.000 x density + 0.022 x pH + -0.006 x sulphates + 0.185 x alcohol\n",
      "5 component: 0.09% of initial variance\n",
      "0.084 x fixed acidity + -0.042 x volatile acidity + 0.039 x citric acid + -0.166 x residual sugar + -0.009 x chlorides + -0.008 x free sulfur dioxide + 0.011 x total sulfur dioxide + -0.001 x density + 0.014 x pH + 0.026 x sulphates + 0.980 x alcohol\n",
      "6 component: 0.0% of initial variance\n",
      "-0.077 x fixed acidity + -0.687 x volatile acidity + 0.500 x citric acid + 0.002 x residual sugar + 0.053 x chlorides + -0.001 x free sulfur dioxide + -0.001 x total sulfur dioxide + -0.000 x density + -0.138 x pH + 0.497 x sulphates + -0.053 x alcohol\n",
      "7 component: 0.0% of initial variance\n",
      "0.012 x fixed acidity + 0.471 x volatile acidity + -0.213 x citric acid + 0.002 x residual sugar + 0.113 x chlorides + -0.000 x free sulfur dioxide + -0.000 x total sulfur dioxide + 0.001 x density + -0.035 x pH + 0.848 x sulphates + 0.007 x alcohol\n",
      "8 component: 0.0% of initial variance\n",
      "-0.067 x fixed acidity + 0.342 x volatile acidity + 0.365 x citric acid + -0.006 x residual sugar + 0.133 x chlorides + 0.003 x free sulfur dioxide + -0.001 x total sulfur dioxide + -0.004 x density + -0.840 x pH + -0.150 x sulphates + 0.022 x alcohol\n",
      "9 component: 0.0% of initial variance\n",
      "-0.013 x fixed acidity + 0.421 x volatile acidity + 0.742 x citric acid + -0.009 x residual sugar + 0.081 x chlorides + 0.002 x free sulfur dioxide + -0.001 x total sulfur dioxide + 0.003 x density + 0.513 x pH + -0.036 x sulphates + -0.018 x alcohol\n",
      "10 component: 0.0% of initial variance\n",
      "0.011 x fixed acidity + -0.098 x volatile acidity + -0.113 x citric acid + -0.001 x residual sugar + 0.980 x chlorides + -0.000 x free sulfur dioxide + 0.000 x total sulfur dioxide + 0.002 x density + 0.083 x pH + -0.101 x sulphates + 0.010 x alcohol\n",
      "11 component: 0.0% of initial variance\n",
      "-0.001 x fixed acidity + -0.001 x volatile acidity + -0.000 x citric acid + -0.000 x residual sugar + -0.001 x chlorides + 0.000 x free sulfur dioxide + -0.000 x total sulfur dioxide + 1.000 x density + -0.005 x pH + -0.001 x sulphates + 0.001 x alcohol\n"
     ]
    },
    {
     "data": {
      "text/plain": [
       "<matplotlib.lines.Line2D at 0x291a3b1eeb8>"
      ]
     },
     "execution_count": 5,
     "metadata": {},
     "output_type": "execute_result"
    },
    {
     "data": {
      "image/png": "[encoded data removed]",
      "text/plain": [
       "<Figure size 720x504 with 1 Axes>"
      ]
     },
     "metadata": {
      "needs_background": "light"
     },
     "output_type": "display_data"
    }
   ],
   "source": [
    "# Выделим тренировочную и тетовую выборку\n",
    "# y - целевая переменнная (target)\n",
    "from sklearn.model_selection import train_test_split\n",
    "X_train, X_test, y_train, y_test = train_test_split(train, target, test_size = 0.3, random_state = 42)\n",
    "\n",
    "from sklearn.decomposition import PCA\n",
    "%matplotlib inline\n",
    "\n",
    "pca = PCA()\n",
    "pca.fit(X_train)\n",
    "X_pca = pca.transform(X_train)\n",
    "\n",
    "for i, component in enumerate(pca.components_):\n",
    "     print(\"{} component: {}% of initial variance\".format(i + 1,\n",
    "         round(100 * pca.explained_variance_ratio_[i], 2)))\n",
    "     print(\" + \".join(\"%.3f x %s\" % (value, name)\n",
    "         for value, name in zip(component,train.columns)))\n",
    "    \n",
    "plt.figure(figsize=(10,7))\n",
    "plt.plot(np.cumsum(pca.explained_variance_ratio_), color='k', lw=2)\n",
    "plt.axhline(0.95, c='r')\n",
    "plt.axvline(0, c='b')\n",
    "plt.axhline(0.995, c='y')\n",
    "plt.axvline(1, c='g')"
   ]
  },
  {
   "cell_type": "markdown",
   "metadata": {},
   "source": [
    "Как видно из графика, для описания 95% данных нам достаточно 1 признака, а именно 'total sulfur dioxide'.\n",
    "А для описания 99.5% признаков нам достаточно 2 признаков: 'total sulfur dioxide' и 'free sulfur dioxide'."
   ]
  },
  {
   "cell_type": "code",
   "execution_count": 6,
   "metadata": {},
   "outputs": [
    {
     "name": "stdout",
     "output_type": "stream",
     "text": [
      "0.09204647006255585 0.14166666666666666\n"
     ]
    }
   ],
   "source": [
    "#1) Метод k-ближайших соседей.\n",
    "from sklearn.neighbors import KNeighborsClassifier\n",
    "\n",
    "knn = KNeighborsClassifier()\n",
    "knn.fit(X_train, y_train)\n",
    "\n",
    "y_train_predict = knn.predict(X_train)\n",
    "y_test_predict = knn.predict(X_test)\n",
    "\n",
    "err_train = np.mean(y_train != y_train_predict)\n",
    "err_test  = np.mean(y_test  != y_test_predict)\n",
    "print(err_train, err_test)"
   ]
  },
  {
   "cell_type": "code",
   "execution_count": 9,
   "metadata": {},
   "outputs": [
    {
     "name": "stdout",
     "output_type": "stream",
     "text": [
      "0.12689901697944594 2\n",
      "0.07149240393208221 0.14375\n"
     ]
    }
   ],
   "source": [
    "# Результат на тестовой модели без нормалировки оказался хуже, чем аналогичный с нормалировкой.\n",
    "from sklearn.model_selection import GridSearchCV\n",
    "n_neighbors_array = [i for i in range(1,12)]\n",
    "knn = KNeighborsClassifier(n_neighbors=5)\n",
    "grid = GridSearchCV(knn, param_grid={'n_neighbors': n_neighbors_array})\n",
    "grid.fit(X_train, y_train)\n",
    "\n",
    "best_cv_err = 1 - grid.best_score_\n",
    "best_n_neighbors = grid.best_estimator_.n_neighbors\n",
    "print(best_cv_err, best_n_neighbors)\n",
    "\n",
    "knn = KNeighborsClassifier(n_neighbors=best_n_neighbors)\n",
    "knn.fit(X_train, y_train)\n",
    "\n",
    "err_train = np.mean(y_train != knn.predict(X_train))\n",
    "err_test  = np.mean(y_test  != knn.predict(X_test))\n",
    "print(err_train, err_test)"
   ]
  },
  {
   "cell_type": "code",
   "execution_count": 10,
   "metadata": {},
   "outputs": [
    {
     "name": "stdout",
     "output_type": "stream",
     "text": [
      "0.0 0.11041666666666666\n"
     ]
    }
   ],
   "source": [
    "# Оптимальное k = 2, и при нем же ошибка на тестовой выборке увеличилась 0.20%. Попоробуем другой метод.\n",
    "# 2)Метод - Random Forest;\n",
    "from sklearn import ensemble\n",
    "rf = ensemble.RandomForestClassifier(n_estimators=100, random_state=11)\n",
    "rf.fit(X_train, y_train)\n",
    "\n",
    "err_train = np.mean(y_train != rf.predict(X_train))\n",
    "err_test  = np.mean(y_test  != rf.predict(X_test))\n",
    "print(err_train, err_test)"
   ]
  },
  {
   "cell_type": "code",
   "execution_count": 11,
   "metadata": {},
   "outputs": [
    {
     "name": "stdout",
     "output_type": "stream",
     "text": [
      "0.0 0.11041666666666666\n"
     ]
    }
   ],
   "source": [
    "# Метод случайного леса показал себя много лучше метода k ближайших соседей. Здесь ошибка на тестовой выборке составила примерно\n",
    "# 11%.\n",
    "# 3) метод GBT\n",
    "from sklearn import ensemble\n",
    "rf = ensemble.RandomForestClassifier(n_estimators=100, random_state=11)\n",
    "rf.fit(X_train, y_train)\n",
    "\n",
    "err_train = np.mean(y_train != rf.predict(X_train))\n",
    "err_test  = np.mean(y_test  != rf.predict(X_test))\n",
    "print(err_train, err_test)"
   ]
  },
  {
   "cell_type": "code",
   "execution_count": 12,
   "metadata": {},
   "outputs": [
    {
     "name": "stdout",
     "output_type": "stream",
     "text": [
      "0.0840035746201966 0.1375\n"
     ]
    }
   ],
   "source": [
    "# Результат совпал с результатом метода случайного леса. Опробуем последний метод - SVC.\n",
    "# 4) метов SVC\n",
    "\n",
    "#a) Радиальное ядро\n",
    "from sklearn.svm import SVC\n",
    "svc = SVC()\n",
    "svc.fit(X_train, y_train)\n",
    "\n",
    "err_train = np.mean(y_train != svc.predict(X_train))\n",
    "err_test  = np.mean(y_test  != svc.predict(X_test))\n",
    "print(err_train, err_test)"
   ]
  },
  {
   "cell_type": "code",
   "execution_count": 13,
   "metadata": {},
   "outputs": [
    {
     "name": "stdout",
     "output_type": "stream",
     "text": [
      "0.13404825737265416 0.13958333333333334\n"
     ]
    }
   ],
   "source": [
    "#b) Линейное ядро\n",
    "svc = SVC(kernel='linear')\n",
    "svc.fit(X_train, y_train)\n",
    "\n",
    "err_train = np.mean(y_train != svc.predict(X_train))\n",
    "err_test  = np.mean(y_test  != svc.predict(X_test))\n",
    "print(err_train, err_test)"
   ]
  },
  {
   "cell_type": "code",
   "execution_count": 14,
   "metadata": {},
   "outputs": [
    {
     "name": "stdout",
     "output_type": "stream",
     "text": [
      "CV error    =  0.11438784629133159\n",
      "best C      =  1.0\n",
      "best gamma  =  10.0\n"
     ]
    }
   ],
   "source": [
    "#c) Полиномиальное ядро\n",
    "# Для него задача, видимо, также не решается.\n",
    "# попоробуем улучшить параметры для работающих 2 ядер.\n",
    "from sklearn.model_selection import GridSearchCV\n",
    "C_array = np.logspace(-3, 3, num=7)\n",
    "gamma_array = np.logspace(-5, 2, num=8)\n",
    "svc = SVC(kernel='rbf')\n",
    "grid = GridSearchCV(svc, param_grid={'C': C_array, 'gamma': gamma_array})\n",
    "grid.fit(X_train, y_train)\n",
    "print('CV error    = ', 1 - grid.best_score_)\n",
    "print('best C      = ', grid.best_estimator_.C)\n",
    "print('best gamma  = ', grid.best_estimator_.gamma)"
   ]
  },
  {
   "cell_type": "code",
   "execution_count": 15,
   "metadata": {},
   "outputs": [
    {
     "name": "stdout",
     "output_type": "stream",
     "text": [
      "0.0008936550491510277 0.11041666666666666\n"
     ]
    }
   ],
   "source": [
    "svc = SVC(kernel='rbf', C=grid.best_estimator_.C, gamma=grid.best_estimator_.gamma)\n",
    "svc.fit(X_train, y_train)\n",
    "\n",
    "err_train = np.mean(y_train != svc.predict(X_train))\n",
    "err_test  = np.mean(y_test  != svc.predict(X_test))\n",
    "print(err_train, err_test)"
   ]
  },
  {
   "cell_type": "markdown",
   "metadata": {},
   "source": [
    "Мы получили лучший процент ошибки в 11 %, также как при методах Random Forest и GBT.\n",
    "Подборка параметров для линейного ядра прошла безуспешно!\n",
    "Итого, не нормализовав данные, мы получили результат хуже на 1 %."
   ]
  }
 ],
 "metadata": {
  "kernelspec": {
   "display_name": "Python 3",
   "language": "python",
   "name": "python3"
  },
  "language_info": {
   "codemirror_mode": {
    "name": "ipython",
    "version": 3
   },
   "file_extension": ".py",
   "mimetype": "text/x-python",
   "name": "python",
   "nbconvert_exporter": "python",
   "pygments_lexer": "ipython3",
   "version": "3.7.3"
  }
 },
 "nbformat": 4,
 "nbformat_minor": 2
}
